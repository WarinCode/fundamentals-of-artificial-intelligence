{
 "cells": [
  {
   "cell_type": "markdown",
   "metadata": {
    "id": "lhFKekmtrnbg"
   },
   "source": [
    "# Data Type"
   ]
  },
  {
   "cell_type": "code",
   "execution_count": null,
   "metadata": {
    "id": "0Bu7vepHr04t"
   },
   "outputs": [],
   "source": [
    "import numpy as np\n",
    "#Scalar\n",
    "S = 10\n",
    "print(\"Type of S\", type(S))\n",
    "\n",
    "#Vector\n",
    "V =  np.array([1,2,3,4])\n",
    "print(\"Type of V\", type(V),\"Dimention of V\", V.shape)\n",
    "\n",
    "#Metrix\n",
    "M = np.array([[1,2,3,4],[5,6,7,8]])\n",
    "print(\"Type of M\", type(M),\"Dimention of M\", M.shape)\n",
    "\n",
    "#Tensor\n",
    "T = np.array([  [[1,2,3],[4,5,6],[0,0,0]],\n",
    "             [[7,8,9],[10,11,12],[13,14,15]],\n",
    "             [[16,17,18],[19,20,21],[23,24,25]]\n",
    "              ])\n",
    "print(\"Type of T\", type(T),\"Dimention of T\", T.shape)\n"
   ]
  },
  {
   "cell_type": "markdown",
   "metadata": {
    "id": "c1NVpxQ418xA"
   },
   "source": [
    "\n",
    "# Numpy Python"
   ]
  },
  {
   "cell_type": "code",
   "execution_count": null,
   "metadata": {
    "id": "oOpomLZeSnj0"
   },
   "outputs": [],
   "source": [
    "import numpy as np\n",
    "\n",
    "np.array([False, 42, \"Data Science\"])"
   ]
  },
  {
   "cell_type": "code",
   "execution_count": null,
   "metadata": {
    "id": "hiNZDsmVS4BP"
   },
   "outputs": [],
   "source": [
    "np.array([True, 42, 53.99], dtype = int)"
   ]
  },
  {
   "cell_type": "code",
   "execution_count": null,
   "metadata": {
    "id": "4xCBFVOUS1Zr"
   },
   "outputs": [],
   "source": [
    "np.array([False, 42, 53.99], dtype = float)   # vector"
   ]
  },
  {
   "cell_type": "code",
   "execution_count": null,
   "metadata": {
    "id": "kskp0kZRTsTb"
   },
   "outputs": [],
   "source": [
    "numbers = np.array([\n",
    "    [1, 2, 3],\n",
    "    [4, 5, 6],\n",
    "    [7, 8, 9],\n",
    "    [10, 11, 12]\n",
    "])\n",
    "\n",
    "print(numbers[2, 1]) # 8\n",
    "print(numbers[-1, 0]) #10\n",
    "\n",
    "\n",
    "print(numbers[0])\n",
    "print(numbers[:, 0])\n",
    "print(numbers[0:3, 2] )\n",
    "print(numbers[1:3, 1:3])\n",
    "print(numbers[:,1])"
   ]
  },
  {
   "cell_type": "code",
   "execution_count": null,
   "metadata": {
    "id": "50Gy--ZMTJtM"
   },
   "outputs": [],
   "source": [
    "print(np.array([37, 48, 50]) + 10 )\n",
    "print(np.array([20, 30, 40]) * 2)\n",
    "print(np.array([42, 10, 60]) / 2 )\n",
    "\n",
    "print(np.array([1, 2, 3]) * np.array([10, 20, 30]) )\n",
    "print(np.array([1, 2, 3]) - np.array([10, 20, 30]) )"
   ]
  },
  {
   "cell_type": "code",
   "execution_count": null,
   "metadata": {
    "id": "eIdcjg69r5Q9"
   },
   "outputs": [],
   "source": [
    "x = np.arange(4)\n",
    "print(x)\n",
    "print(x.shape)"
   ]
  },
  {
   "cell_type": "code",
   "execution_count": null,
   "metadata": {
    "id": "xP4RqygbsP3R"
   },
   "outputs": [],
   "source": [
    "xx = x.reshape(4,1)  #*****\n",
    "print(xx)"
   ]
  },
  {
   "cell_type": "code",
   "execution_count": null,
   "metadata": {
    "id": "bfBiR6EUsX2E"
   },
   "outputs": [],
   "source": [
    "identity = np.eye(4)\n",
    "print(identity)"
   ]
  },
  {
   "cell_type": "code",
   "execution_count": null,
   "metadata": {
    "id": "vEbexrnvskD5"
   },
   "outputs": [],
   "source": [
    "random = np.random.random((3,3))\n",
    "print(random)"
   ]
  },
  {
   "cell_type": "markdown",
   "metadata": {
    "id": "kPzGT_Ob1T_x"
   },
   "source": [
    "\n",
    "\n",
    "> Indented block\n",
    "\n",
    "\n",
    "\n",
    "# Python for Data List"
   ]
  },
  {
   "cell_type": "code",
   "execution_count": null,
   "metadata": {
    "id": "YtnD78x2cbpa"
   },
   "outputs": [],
   "source": [
    "fruits = [\"pineapple\", \"apple\", \"lemon\", \"strawberry\", \"orange\", \"kiwi\"]\n",
    "\n",
    "print(fruits)\n",
    "print(fruits[0:5])"
   ]
  },
  {
   "cell_type": "code",
   "execution_count": null,
   "metadata": {
    "id": "QXp_jAIX3s10"
   },
   "outputs": [],
   "source": [
    "fruits.append(\"peach\")\n",
    "fruits # [\"pineapple\", \"apple\", \"lemon\", \"strawberry\", \"orange\", \"kiwi\", \"peach\"]"
   ]
  },
  {
   "cell_type": "code",
   "execution_count": null,
   "metadata": {
    "id": "8l2jQnVH6AjE"
   },
   "outputs": [],
   "source": [
    "fruits[0:2] = [\"grape\", \"mango\"]\n",
    "fruits # [\"grape\", \"mango\", \"lemon\", \"strawberry\", \"orange\", \"kiwi\", \"peach\", \"fig\", \"melon\"]"
   ]
  },
  {
   "cell_type": "code",
   "execution_count": null,
   "metadata": {
    "id": "NfI_Nf8H6d9h"
   },
   "outputs": [],
   "source": [
    "fruits.remove(\"mango\")\n",
    "fruits # [\"grape\", \"lemon\", \"strawberry\", \"orange\", \"kiwi\", \"peach\", \"fig\", \"melon\"]"
   ]
  },
  {
   "cell_type": "code",
   "execution_count": null,
   "metadata": {
    "id": "FHCnsYJU806n"
   },
   "outputs": [],
   "source": [
    "movies = [\"Iron Man\", \"Bat Man\", \"Spider Man\"]\n",
    "ratings = [7.7, 8.1, 6.8]\n",
    "print(movies[0],ratings[0])\n",
    "#movie_choice_index = movies.index(\"Bat Man\")\n",
    "print(ratings[movies.index(\"Spider Man\")])\n"
   ]
  },
  {
   "cell_type": "code",
   "execution_count": null,
   "metadata": {
    "id": "FWUDE3Ht9FU6"
   },
   "outputs": [],
   "source": [
    "from google.colab import drive\n",
    "drive.mount('/content/drive')"
   ]
  },
  {
   "cell_type": "markdown",
   "metadata": {
    "id": "jPy6FeY4tR_J"
   },
   "source": [
    "\n",
    "# Python for Data Dictionary"
   ]
  },
  {
   "cell_type": "code",
   "execution_count": null,
   "metadata": {
    "id": "kDzK8caV-kp1"
   },
   "outputs": [],
   "source": [
    "#Key , Value\n",
    "ratings = {\n",
    "    \"American Standard\": 3.4,\n",
    "    \"Ex Machina\": 7.7,\n",
    "    \"Mad Max: Fury Road\": 8.1,\n",
    "    \"1408\" : 6.8\n",
    "}\n",
    "\n",
    "ratings[\"Ex Machina\"]\n",
    "print(ratings)"
   ]
  },
  {
   "cell_type": "code",
   "execution_count": null,
   "metadata": {
    "id": "r6pX-zox_jdo"
   },
   "outputs": [],
   "source": [
    "ratings\n",
    "\n",
    "#Add new value\n",
    "ratings['1408'] = 9.9\n",
    "ratings[\"Deadpool\"] = 8.0\n",
    "#delete value\n",
    "del(ratings[\"1408\"])\n",
    "\n",
    "ratings"
   ]
  },
  {
   "cell_type": "code",
   "execution_count": null,
   "metadata": {
    "id": "y8901s7M_hdk"
   },
   "outputs": [],
   "source": [
    "def is_prime(n):\n",
    "    if n <= 1:\n",
    "        return False\n",
    "    elif n <= 3:\n",
    "        return True\n",
    "    elif n % 2 == 0 or n % 3 == 0:\n",
    "        return False\n",
    "    current_number = 5\n",
    "    while current_number * current_number <= n:\n",
    "        if n % current_number == 0 or n % (current_number + 2) == 0:\n",
    "            return False\n",
    "        current_number = current_number + 6\n",
    "    return True\n",
    "\n",
    "\n",
    "is_prime(7)"
   ]
  },
  {
   "cell_type": "markdown",
   "metadata": {
    "id": "Ng_jDGpkcA2w"
   },
   "source": [
    "Pandas คือ ..."
   ]
  },
  {
   "cell_type": "markdown",
   "metadata": {
    "id": "ZoojLjGE2Gdq"
   },
   "source": [
    "# Pandas in Python\n",
    "\n",
    "The primary data structures in pandas are implemented as two classes:\n",
    "\n",
    "\n",
    "*   DataFrame, which you can imagine as a relational data table, with rows and named columns.\n",
    "*   Series, which is a single column. A DataFrame contains one or more Series and a name for each Series.\n",
    "\n",
    "\n",
    "\n"
   ]
  },
  {
   "cell_type": "code",
   "execution_count": null,
   "metadata": {
    "id": "K8seKW-kVwsq"
   },
   "outputs": [],
   "source": [
    "import pandas as pd\n",
    "df = pd.DataFrame(\n",
    "    {\n",
    "    \"Name\": [\n",
    "             \"Somchai\",\n",
    "             \"Somying\",\n",
    "             \"Somjai\",\n",
    "             ],\n",
    "    \"Age\": [22, 35, 58],\n",
    "    \"Sex\": [\"male\", \"male\", \"female\"],\n",
    "    }\n",
    ")\n",
    "\n",
    "print(df)"
   ]
  },
  {
   "cell_type": "code",
   "execution_count": null,
   "metadata": {
    "id": "Ape4FV650YFx"
   },
   "outputs": [],
   "source": [
    "print(df.loc[0])"
   ]
  },
  {
   "cell_type": "code",
   "execution_count": null,
   "metadata": {
    "id": "BRbAjXjQ0plK"
   },
   "outputs": [],
   "source": [
    "print(df[0:3])"
   ]
  },
  {
   "cell_type": "code",
   "execution_count": null,
   "metadata": {
    "id": "UtRoX1YF0x28"
   },
   "outputs": [],
   "source": [
    "print(df.loc[0:1])"
   ]
  },
  {
   "cell_type": "code",
   "execution_count": null,
   "metadata": {
    "id": "LW2-o0sNhZBZ"
   },
   "outputs": [],
   "source": [
    "print(df.loc[2])"
   ]
  },
  {
   "cell_type": "code",
   "execution_count": null,
   "metadata": {
    "id": "XFJdQNg503O1"
   },
   "outputs": [],
   "source": [
    "print(df.iloc[2])"
   ]
  },
  {
   "cell_type": "markdown",
   "metadata": {
    "id": "0EHqCFRX7vnI"
   },
   "source": [
    "#Example #1"
   ]
  },
  {
   "cell_type": "code",
   "execution_count": null,
   "metadata": {
    "id": "krQq82LJ7zbe"
   },
   "outputs": [],
   "source": [
    "import pandas as pd\n",
    "true_df = pd.read_csv('/content/drive/MyDrive/Colab Notebooks/01418496/data/True_news.csv')\n",
    "fake_df = pd.read_csv('/content/drive/MyDrive/Colab Notebooks/01418496/data/Fake_news.csv')\n",
    "print(true_df.head(10))\n",
    "print(fake_df.head())"
   ]
  },
  {
   "cell_type": "code",
   "execution_count": null,
   "metadata": {
    "id": "1TKVCceX_qN2"
   },
   "outputs": [],
   "source": [
    "true_df['check'] = 'TRUE'\n",
    "fake_df['check'] = 'FAKE'\n",
    "print(true_df.head())\n",
    "print(fake_df.head())"
   ]
  },
  {
   "cell_type": "code",
   "execution_count": null,
   "metadata": {
    "id": "NYPmgDKo_6nc"
   },
   "outputs": [],
   "source": [
    "#Concatenate\n",
    "df_news = pd.concat([true_df,fake_df])\n",
    "print(df_news.describe())\n",
    "print(df_news.head(10))"
   ]
  },
  {
   "cell_type": "code",
   "execution_count": null,
   "metadata": {
    "id": "twNtiVHrAjF5"
   },
   "outputs": [],
   "source": [
    "#Column selection\n",
    "print(df_news['subject'])"
   ]
  },
  {
   "cell_type": "code",
   "execution_count": null,
   "metadata": {
    "id": "zOgwu2IeA8zV"
   },
   "outputs": [],
   "source": [
    "print(df_news[['subject','date']])"
   ]
  },
  {
   "cell_type": "code",
   "execution_count": null,
   "metadata": {
    "id": "7qykBXqVBM7J"
   },
   "outputs": [],
   "source": [
    "print(df_news.iloc[2000:2125, 2:6])"
   ]
  },
  {
   "cell_type": "markdown",
   "metadata": {
    "id": "lSuphtpi1RBe"
   },
   "source": [
    "# WorkShop   (Download Data from URL)"
   ]
  },
  {
   "cell_type": "code",
   "execution_count": 1,
   "metadata": {
    "id": "UvAafkvcgL1X"
   },
   "outputs": [
    {
     "name": "stdout",
     "output_type": "stream",
     "text": [
      "Download ready.\n"
     ]
    }
   ],
   "source": [
    "import requests\n",
    "\n",
    "download_url = \"https://media.geeksforgeeks.org/wp-content/uploads/employees.csv\"\n",
    "target_csv_path = \"all_testdata.csv\"\n",
    "\n",
    "response = requests.get(download_url)\n",
    "response.raise_for_status()    # Check that the request was successful\n",
    "with open(target_csv_path, \"wb\") as f:\n",
    "    f.write(response.content)\n",
    "print(\"Download ready.\")"
   ]
  },
  {
   "cell_type": "markdown",
   "metadata": {
    "id": "LA2-3NNLg157"
   },
   "source": [
    "ทำการอ่านไฟล์ที่ Downaload\n"
   ]
  },
  {
   "cell_type": "code",
   "execution_count": 2,
   "metadata": {
    "id": "x7KB-z6og92f"
   },
   "outputs": [
    {
     "data": {
      "text/plain": [
       "(1000, 8)"
      ]
     },
     "execution_count": 2,
     "metadata": {},
     "output_type": "execute_result"
    }
   ],
   "source": [
    "from pandas import DataFrame, read_csv\n",
    "\n",
    "employee = read_csv(\"all_testdata.csv\")\n",
    "len(employee)\n",
    "employee.shape"
   ]
  },
  {
   "cell_type": "markdown",
   "metadata": {
    "id": "FqKN9voxjjvC"
   },
   "source": [
    "ทำการแสดงข้อมูลทั้งหมด"
   ]
  },
  {
   "cell_type": "code",
   "execution_count": 3,
   "metadata": {
    "id": "r9ql-xh8jrbg"
   },
   "outputs": [
    {
     "data": {
      "text/html": [
       "<div>\n",
       "<style scoped>\n",
       "    .dataframe tbody tr th:only-of-type {\n",
       "        vertical-align: middle;\n",
       "    }\n",
       "\n",
       "    .dataframe tbody tr th {\n",
       "        vertical-align: top;\n",
       "    }\n",
       "\n",
       "    .dataframe thead th {\n",
       "        text-align: right;\n",
       "    }\n",
       "</style>\n",
       "<table border=\"1\" class=\"dataframe\">\n",
       "  <thead>\n",
       "    <tr style=\"text-align: right;\">\n",
       "      <th></th>\n",
       "      <th>First Name</th>\n",
       "      <th>Gender</th>\n",
       "      <th>Start Date</th>\n",
       "      <th>Last Login Time</th>\n",
       "      <th>Salary</th>\n",
       "      <th>Bonus %</th>\n",
       "      <th>Senior Management</th>\n",
       "      <th>Team</th>\n",
       "    </tr>\n",
       "  </thead>\n",
       "  <tbody>\n",
       "    <tr>\n",
       "      <th>0</th>\n",
       "      <td>Douglas</td>\n",
       "      <td>Male</td>\n",
       "      <td>8/6/1993</td>\n",
       "      <td>12:42 PM</td>\n",
       "      <td>97308</td>\n",
       "      <td>6.945</td>\n",
       "      <td>True</td>\n",
       "      <td>Marketing</td>\n",
       "    </tr>\n",
       "    <tr>\n",
       "      <th>1</th>\n",
       "      <td>Thomas</td>\n",
       "      <td>Male</td>\n",
       "      <td>3/31/1996</td>\n",
       "      <td>6:53 AM</td>\n",
       "      <td>61933</td>\n",
       "      <td>4.170</td>\n",
       "      <td>True</td>\n",
       "      <td>NaN</td>\n",
       "    </tr>\n",
       "    <tr>\n",
       "      <th>2</th>\n",
       "      <td>Maria</td>\n",
       "      <td>Female</td>\n",
       "      <td>4/23/1993</td>\n",
       "      <td>11:17 AM</td>\n",
       "      <td>130590</td>\n",
       "      <td>11.858</td>\n",
       "      <td>False</td>\n",
       "      <td>Finance</td>\n",
       "    </tr>\n",
       "    <tr>\n",
       "      <th>3</th>\n",
       "      <td>Jerry</td>\n",
       "      <td>Male</td>\n",
       "      <td>3/4/2005</td>\n",
       "      <td>1:00 PM</td>\n",
       "      <td>138705</td>\n",
       "      <td>9.340</td>\n",
       "      <td>True</td>\n",
       "      <td>Finance</td>\n",
       "    </tr>\n",
       "    <tr>\n",
       "      <th>4</th>\n",
       "      <td>Larry</td>\n",
       "      <td>Male</td>\n",
       "      <td>1/24/1998</td>\n",
       "      <td>4:47 PM</td>\n",
       "      <td>101004</td>\n",
       "      <td>1.389</td>\n",
       "      <td>True</td>\n",
       "      <td>Client Services</td>\n",
       "    </tr>\n",
       "    <tr>\n",
       "      <th>...</th>\n",
       "      <td>...</td>\n",
       "      <td>...</td>\n",
       "      <td>...</td>\n",
       "      <td>...</td>\n",
       "      <td>...</td>\n",
       "      <td>...</td>\n",
       "      <td>...</td>\n",
       "      <td>...</td>\n",
       "    </tr>\n",
       "    <tr>\n",
       "      <th>995</th>\n",
       "      <td>Henry</td>\n",
       "      <td>NaN</td>\n",
       "      <td>11/23/2014</td>\n",
       "      <td>6:09 AM</td>\n",
       "      <td>132483</td>\n",
       "      <td>16.655</td>\n",
       "      <td>False</td>\n",
       "      <td>Distribution</td>\n",
       "    </tr>\n",
       "    <tr>\n",
       "      <th>996</th>\n",
       "      <td>Phillip</td>\n",
       "      <td>Male</td>\n",
       "      <td>1/31/1984</td>\n",
       "      <td>6:30 AM</td>\n",
       "      <td>42392</td>\n",
       "      <td>19.675</td>\n",
       "      <td>False</td>\n",
       "      <td>Finance</td>\n",
       "    </tr>\n",
       "    <tr>\n",
       "      <th>997</th>\n",
       "      <td>Russell</td>\n",
       "      <td>Male</td>\n",
       "      <td>5/20/2013</td>\n",
       "      <td>12:39 PM</td>\n",
       "      <td>96914</td>\n",
       "      <td>1.421</td>\n",
       "      <td>False</td>\n",
       "      <td>Product</td>\n",
       "    </tr>\n",
       "    <tr>\n",
       "      <th>998</th>\n",
       "      <td>Larry</td>\n",
       "      <td>Male</td>\n",
       "      <td>4/20/2013</td>\n",
       "      <td>4:45 PM</td>\n",
       "      <td>60500</td>\n",
       "      <td>11.985</td>\n",
       "      <td>False</td>\n",
       "      <td>Business Development</td>\n",
       "    </tr>\n",
       "    <tr>\n",
       "      <th>999</th>\n",
       "      <td>Albert</td>\n",
       "      <td>Male</td>\n",
       "      <td>5/15/2012</td>\n",
       "      <td>6:24 PM</td>\n",
       "      <td>129949</td>\n",
       "      <td>10.169</td>\n",
       "      <td>True</td>\n",
       "      <td>Sales</td>\n",
       "    </tr>\n",
       "  </tbody>\n",
       "</table>\n",
       "<p>1000 rows × 8 columns</p>\n",
       "</div>"
      ],
      "text/plain": [
       "    First Name  Gender  Start Date Last Login Time  Salary  Bonus %  \\\n",
       "0      Douglas    Male    8/6/1993        12:42 PM   97308    6.945   \n",
       "1       Thomas    Male   3/31/1996         6:53 AM   61933    4.170   \n",
       "2        Maria  Female   4/23/1993        11:17 AM  130590   11.858   \n",
       "3        Jerry    Male    3/4/2005         1:00 PM  138705    9.340   \n",
       "4        Larry    Male   1/24/1998         4:47 PM  101004    1.389   \n",
       "..         ...     ...         ...             ...     ...      ...   \n",
       "995      Henry     NaN  11/23/2014         6:09 AM  132483   16.655   \n",
       "996    Phillip    Male   1/31/1984         6:30 AM   42392   19.675   \n",
       "997    Russell    Male   5/20/2013        12:39 PM   96914    1.421   \n",
       "998      Larry    Male   4/20/2013         4:45 PM   60500   11.985   \n",
       "999     Albert    Male   5/15/2012         6:24 PM  129949   10.169   \n",
       "\n",
       "    Senior Management                  Team  \n",
       "0                True             Marketing  \n",
       "1                True                   NaN  \n",
       "2               False               Finance  \n",
       "3                True               Finance  \n",
       "4                True       Client Services  \n",
       "..                ...                   ...  \n",
       "995             False          Distribution  \n",
       "996             False               Finance  \n",
       "997             False               Product  \n",
       "998             False  Business Development  \n",
       "999              True                 Sales  \n",
       "\n",
       "[1000 rows x 8 columns]"
      ]
     },
     "metadata": {},
     "output_type": "display_data"
    }
   ],
   "source": [
    "# เรียกใช้ function display โดยส่ง object employee เข้าไปเป็น argument\n",
    "display(employee)"
   ]
  },
  {
   "cell_type": "markdown",
   "metadata": {
    "id": "78Ik1u2HjuSW"
   },
   "source": [
    "ทำการสำรวจข้อมูลที่ download มา ด้วยการ count จำนวน"
   ]
  },
  {
   "cell_type": "code",
   "execution_count": null,
   "metadata": {
    "id": "vKoYqBwoiSSm"
   },
   "outputs": [
    {
     "name": "stdout",
     "output_type": "stream",
     "text": [
      "First Name            933\n",
      "Gender                855\n",
      "Start Date           1000\n",
      "Last Login Time      1000\n",
      "Salary               1000\n",
      "Bonus %              1000\n",
      "Senior Management     933\n",
      "Team                  957\n",
      "dtype: int64\n"
     ]
    }
   ],
   "source": [
    "# เรียกใช้ method count ในการแสดงผลการนับของข้อมูลแต่ละคอลัมน์ โดยจะไม่นับแถวของข้อมูลที่ค่าเป็น NaN\n",
    "print(employee.count())"
   ]
  },
  {
   "cell_type": "markdown",
   "metadata": {
    "id": "OFLk3Lilicba"
   },
   "source": [
    "ทำการสร้าง DataFrame\n"
   ]
  },
  {
   "cell_type": "code",
   "execution_count": 5,
   "metadata": {
    "id": "WSAFbtXCl2aP"
   },
   "outputs": [],
   "source": [
    "# สร้าง object ของ dataframe \n",
    "df = DataFrame(employee)"
   ]
  },
  {
   "cell_type": "markdown",
   "metadata": {
    "id": "2WTs9FYmmUhV"
   },
   "source": [
    "ดึงข้อมูลชื่อ และเงินเดือน"
   ]
  },
  {
   "cell_type": "code",
   "execution_count": 6,
   "metadata": {
    "id": "P7xb8MFGmTMB"
   },
   "outputs": [
    {
     "data": {
      "text/html": [
       "<div>\n",
       "<style scoped>\n",
       "    .dataframe tbody tr th:only-of-type {\n",
       "        vertical-align: middle;\n",
       "    }\n",
       "\n",
       "    .dataframe tbody tr th {\n",
       "        vertical-align: top;\n",
       "    }\n",
       "\n",
       "    .dataframe thead th {\n",
       "        text-align: right;\n",
       "    }\n",
       "</style>\n",
       "<table border=\"1\" class=\"dataframe\">\n",
       "  <thead>\n",
       "    <tr style=\"text-align: right;\">\n",
       "      <th></th>\n",
       "      <th>First Name</th>\n",
       "      <th>Salary</th>\n",
       "    </tr>\n",
       "  </thead>\n",
       "  <tbody>\n",
       "    <tr>\n",
       "      <th>0</th>\n",
       "      <td>Douglas</td>\n",
       "      <td>97308</td>\n",
       "    </tr>\n",
       "    <tr>\n",
       "      <th>1</th>\n",
       "      <td>Thomas</td>\n",
       "      <td>61933</td>\n",
       "    </tr>\n",
       "    <tr>\n",
       "      <th>2</th>\n",
       "      <td>Maria</td>\n",
       "      <td>130590</td>\n",
       "    </tr>\n",
       "    <tr>\n",
       "      <th>3</th>\n",
       "      <td>Jerry</td>\n",
       "      <td>138705</td>\n",
       "    </tr>\n",
       "    <tr>\n",
       "      <th>4</th>\n",
       "      <td>Larry</td>\n",
       "      <td>101004</td>\n",
       "    </tr>\n",
       "    <tr>\n",
       "      <th>...</th>\n",
       "      <td>...</td>\n",
       "      <td>...</td>\n",
       "    </tr>\n",
       "    <tr>\n",
       "      <th>995</th>\n",
       "      <td>Henry</td>\n",
       "      <td>132483</td>\n",
       "    </tr>\n",
       "    <tr>\n",
       "      <th>996</th>\n",
       "      <td>Phillip</td>\n",
       "      <td>42392</td>\n",
       "    </tr>\n",
       "    <tr>\n",
       "      <th>997</th>\n",
       "      <td>Russell</td>\n",
       "      <td>96914</td>\n",
       "    </tr>\n",
       "    <tr>\n",
       "      <th>998</th>\n",
       "      <td>Larry</td>\n",
       "      <td>60500</td>\n",
       "    </tr>\n",
       "    <tr>\n",
       "      <th>999</th>\n",
       "      <td>Albert</td>\n",
       "      <td>129949</td>\n",
       "    </tr>\n",
       "  </tbody>\n",
       "</table>\n",
       "<p>1000 rows × 2 columns</p>\n",
       "</div>"
      ],
      "text/plain": [
       "    First Name  Salary\n",
       "0      Douglas   97308\n",
       "1       Thomas   61933\n",
       "2        Maria  130590\n",
       "3        Jerry  138705\n",
       "4        Larry  101004\n",
       "..         ...     ...\n",
       "995      Henry  132483\n",
       "996    Phillip   42392\n",
       "997    Russell   96914\n",
       "998      Larry   60500\n",
       "999     Albert  129949\n",
       "\n",
       "[1000 rows x 2 columns]"
      ]
     },
     "metadata": {},
     "output_type": "display_data"
    }
   ],
   "source": [
    "# เรียกใช้ function display โดยส่ง object แล้วเราเลือกแสดงผลข้อมูลคอลัมน์เฉพาะ ชื่อ และ เงินเดือน ก็จะได้ข้อมูล\n",
    "# ทุกแถวของคอลัมน์ First Name และ Salary\n",
    "display(df[[\"First Name\", \"Salary\"]])"
   ]
  },
  {
   "cell_type": "markdown",
   "metadata": {
    "id": "x4tNnd4knhDP"
   },
   "source": [
    "ดึงข้อมูลของพนักงานคนที่ 5 ถึงคนที่ 10\n"
   ]
  },
  {
   "cell_type": "code",
   "execution_count": 7,
   "metadata": {
    "id": "tS-4YuA3notH"
   },
   "outputs": [
    {
     "data": {
      "text/html": [
       "<div>\n",
       "<style scoped>\n",
       "    .dataframe tbody tr th:only-of-type {\n",
       "        vertical-align: middle;\n",
       "    }\n",
       "\n",
       "    .dataframe tbody tr th {\n",
       "        vertical-align: top;\n",
       "    }\n",
       "\n",
       "    .dataframe thead th {\n",
       "        text-align: right;\n",
       "    }\n",
       "</style>\n",
       "<table border=\"1\" class=\"dataframe\">\n",
       "  <thead>\n",
       "    <tr style=\"text-align: right;\">\n",
       "      <th></th>\n",
       "      <th>First Name</th>\n",
       "      <th>Gender</th>\n",
       "      <th>Start Date</th>\n",
       "      <th>Last Login Time</th>\n",
       "      <th>Salary</th>\n",
       "      <th>Bonus %</th>\n",
       "      <th>Senior Management</th>\n",
       "      <th>Team</th>\n",
       "    </tr>\n",
       "  </thead>\n",
       "  <tbody>\n",
       "    <tr>\n",
       "      <th>5</th>\n",
       "      <td>Dennis</td>\n",
       "      <td>Male</td>\n",
       "      <td>4/18/1987</td>\n",
       "      <td>1:35 AM</td>\n",
       "      <td>115163</td>\n",
       "      <td>10.125</td>\n",
       "      <td>False</td>\n",
       "      <td>Legal</td>\n",
       "    </tr>\n",
       "    <tr>\n",
       "      <th>6</th>\n",
       "      <td>Ruby</td>\n",
       "      <td>Female</td>\n",
       "      <td>8/17/1987</td>\n",
       "      <td>4:20 PM</td>\n",
       "      <td>65476</td>\n",
       "      <td>10.012</td>\n",
       "      <td>True</td>\n",
       "      <td>Product</td>\n",
       "    </tr>\n",
       "    <tr>\n",
       "      <th>7</th>\n",
       "      <td>NaN</td>\n",
       "      <td>Female</td>\n",
       "      <td>7/20/2015</td>\n",
       "      <td>10:43 AM</td>\n",
       "      <td>45906</td>\n",
       "      <td>11.598</td>\n",
       "      <td>NaN</td>\n",
       "      <td>Finance</td>\n",
       "    </tr>\n",
       "    <tr>\n",
       "      <th>8</th>\n",
       "      <td>Angela</td>\n",
       "      <td>Female</td>\n",
       "      <td>11/22/2005</td>\n",
       "      <td>6:29 AM</td>\n",
       "      <td>95570</td>\n",
       "      <td>18.523</td>\n",
       "      <td>True</td>\n",
       "      <td>Engineering</td>\n",
       "    </tr>\n",
       "    <tr>\n",
       "      <th>9</th>\n",
       "      <td>Frances</td>\n",
       "      <td>Female</td>\n",
       "      <td>8/8/2002</td>\n",
       "      <td>6:51 AM</td>\n",
       "      <td>139852</td>\n",
       "      <td>7.524</td>\n",
       "      <td>True</td>\n",
       "      <td>Business Development</td>\n",
       "    </tr>\n",
       "    <tr>\n",
       "      <th>10</th>\n",
       "      <td>Louise</td>\n",
       "      <td>Female</td>\n",
       "      <td>8/12/1980</td>\n",
       "      <td>9:01 AM</td>\n",
       "      <td>63241</td>\n",
       "      <td>15.132</td>\n",
       "      <td>True</td>\n",
       "      <td>NaN</td>\n",
       "    </tr>\n",
       "  </tbody>\n",
       "</table>\n",
       "</div>"
      ],
      "text/plain": [
       "   First Name  Gender  Start Date Last Login Time  Salary  Bonus %  \\\n",
       "5      Dennis    Male   4/18/1987         1:35 AM  115163   10.125   \n",
       "6        Ruby  Female   8/17/1987         4:20 PM   65476   10.012   \n",
       "7         NaN  Female   7/20/2015        10:43 AM   45906   11.598   \n",
       "8      Angela  Female  11/22/2005         6:29 AM   95570   18.523   \n",
       "9     Frances  Female    8/8/2002         6:51 AM  139852    7.524   \n",
       "10     Louise  Female   8/12/1980         9:01 AM   63241   15.132   \n",
       "\n",
       "   Senior Management                  Team  \n",
       "5              False                 Legal  \n",
       "6               True               Product  \n",
       "7                NaN               Finance  \n",
       "8               True           Engineering  \n",
       "9               True  Business Development  \n",
       "10              True                   NaN  "
      ]
     },
     "metadata": {},
     "output_type": "display_data"
    }
   ],
   "source": [
    "# เอาข้อมูลของตารางตั้งแต่แถวที่ 5 ถึงแถวที่ 10 โดยระบุเลข index ตามนี้คือ เริ่มที่แถวที่ 5 และจบที่แถวที่ 10 \n",
    "# แต่ต้องใส่เป็นเลข 11 เพราะต้องใส่ +1 เสมอมันจะจบก่อนถึงเลขสุดท้าย\n",
    "employees = df[5:11]\n",
    "display(employees)"
   ]
  },
  {
   "cell_type": "markdown",
   "metadata": {
    "id": "_GgoSvlZpSpA"
   },
   "source": [
    "ข้อมูลของพนักงานที่ได้เงินเดือนเกิน 10000\n"
   ]
  },
  {
   "cell_type": "code",
   "execution_count": 8,
   "metadata": {
    "id": "Ea_Nyk8rpZ-S"
   },
   "outputs": [
    {
     "data": {
      "text/html": [
       "<div>\n",
       "<style scoped>\n",
       "    .dataframe tbody tr th:only-of-type {\n",
       "        vertical-align: middle;\n",
       "    }\n",
       "\n",
       "    .dataframe tbody tr th {\n",
       "        vertical-align: top;\n",
       "    }\n",
       "\n",
       "    .dataframe thead th {\n",
       "        text-align: right;\n",
       "    }\n",
       "</style>\n",
       "<table border=\"1\" class=\"dataframe\">\n",
       "  <thead>\n",
       "    <tr style=\"text-align: right;\">\n",
       "      <th></th>\n",
       "      <th>First Name</th>\n",
       "      <th>Gender</th>\n",
       "      <th>Start Date</th>\n",
       "      <th>Last Login Time</th>\n",
       "      <th>Salary</th>\n",
       "      <th>Bonus %</th>\n",
       "      <th>Senior Management</th>\n",
       "      <th>Team</th>\n",
       "    </tr>\n",
       "  </thead>\n",
       "  <tbody>\n",
       "    <tr>\n",
       "      <th>0</th>\n",
       "      <td>Douglas</td>\n",
       "      <td>Male</td>\n",
       "      <td>8/6/1993</td>\n",
       "      <td>12:42 PM</td>\n",
       "      <td>97308</td>\n",
       "      <td>6.945</td>\n",
       "      <td>True</td>\n",
       "      <td>Marketing</td>\n",
       "    </tr>\n",
       "    <tr>\n",
       "      <th>1</th>\n",
       "      <td>Thomas</td>\n",
       "      <td>Male</td>\n",
       "      <td>3/31/1996</td>\n",
       "      <td>6:53 AM</td>\n",
       "      <td>61933</td>\n",
       "      <td>4.170</td>\n",
       "      <td>True</td>\n",
       "      <td>NaN</td>\n",
       "    </tr>\n",
       "    <tr>\n",
       "      <th>2</th>\n",
       "      <td>Maria</td>\n",
       "      <td>Female</td>\n",
       "      <td>4/23/1993</td>\n",
       "      <td>11:17 AM</td>\n",
       "      <td>130590</td>\n",
       "      <td>11.858</td>\n",
       "      <td>False</td>\n",
       "      <td>Finance</td>\n",
       "    </tr>\n",
       "    <tr>\n",
       "      <th>3</th>\n",
       "      <td>Jerry</td>\n",
       "      <td>Male</td>\n",
       "      <td>3/4/2005</td>\n",
       "      <td>1:00 PM</td>\n",
       "      <td>138705</td>\n",
       "      <td>9.340</td>\n",
       "      <td>True</td>\n",
       "      <td>Finance</td>\n",
       "    </tr>\n",
       "    <tr>\n",
       "      <th>4</th>\n",
       "      <td>Larry</td>\n",
       "      <td>Male</td>\n",
       "      <td>1/24/1998</td>\n",
       "      <td>4:47 PM</td>\n",
       "      <td>101004</td>\n",
       "      <td>1.389</td>\n",
       "      <td>True</td>\n",
       "      <td>Client Services</td>\n",
       "    </tr>\n",
       "    <tr>\n",
       "      <th>...</th>\n",
       "      <td>...</td>\n",
       "      <td>...</td>\n",
       "      <td>...</td>\n",
       "      <td>...</td>\n",
       "      <td>...</td>\n",
       "      <td>...</td>\n",
       "      <td>...</td>\n",
       "      <td>...</td>\n",
       "    </tr>\n",
       "    <tr>\n",
       "      <th>995</th>\n",
       "      <td>Henry</td>\n",
       "      <td>NaN</td>\n",
       "      <td>11/23/2014</td>\n",
       "      <td>6:09 AM</td>\n",
       "      <td>132483</td>\n",
       "      <td>16.655</td>\n",
       "      <td>False</td>\n",
       "      <td>Distribution</td>\n",
       "    </tr>\n",
       "    <tr>\n",
       "      <th>996</th>\n",
       "      <td>Phillip</td>\n",
       "      <td>Male</td>\n",
       "      <td>1/31/1984</td>\n",
       "      <td>6:30 AM</td>\n",
       "      <td>42392</td>\n",
       "      <td>19.675</td>\n",
       "      <td>False</td>\n",
       "      <td>Finance</td>\n",
       "    </tr>\n",
       "    <tr>\n",
       "      <th>997</th>\n",
       "      <td>Russell</td>\n",
       "      <td>Male</td>\n",
       "      <td>5/20/2013</td>\n",
       "      <td>12:39 PM</td>\n",
       "      <td>96914</td>\n",
       "      <td>1.421</td>\n",
       "      <td>False</td>\n",
       "      <td>Product</td>\n",
       "    </tr>\n",
       "    <tr>\n",
       "      <th>998</th>\n",
       "      <td>Larry</td>\n",
       "      <td>Male</td>\n",
       "      <td>4/20/2013</td>\n",
       "      <td>4:45 PM</td>\n",
       "      <td>60500</td>\n",
       "      <td>11.985</td>\n",
       "      <td>False</td>\n",
       "      <td>Business Development</td>\n",
       "    </tr>\n",
       "    <tr>\n",
       "      <th>999</th>\n",
       "      <td>Albert</td>\n",
       "      <td>Male</td>\n",
       "      <td>5/15/2012</td>\n",
       "      <td>6:24 PM</td>\n",
       "      <td>129949</td>\n",
       "      <td>10.169</td>\n",
       "      <td>True</td>\n",
       "      <td>Sales</td>\n",
       "    </tr>\n",
       "  </tbody>\n",
       "</table>\n",
       "<p>1000 rows × 8 columns</p>\n",
       "</div>"
      ],
      "text/plain": [
       "    First Name  Gender  Start Date Last Login Time  Salary  Bonus %  \\\n",
       "0      Douglas    Male    8/6/1993        12:42 PM   97308    6.945   \n",
       "1       Thomas    Male   3/31/1996         6:53 AM   61933    4.170   \n",
       "2        Maria  Female   4/23/1993        11:17 AM  130590   11.858   \n",
       "3        Jerry    Male    3/4/2005         1:00 PM  138705    9.340   \n",
       "4        Larry    Male   1/24/1998         4:47 PM  101004    1.389   \n",
       "..         ...     ...         ...             ...     ...      ...   \n",
       "995      Henry     NaN  11/23/2014         6:09 AM  132483   16.655   \n",
       "996    Phillip    Male   1/31/1984         6:30 AM   42392   19.675   \n",
       "997    Russell    Male   5/20/2013        12:39 PM   96914    1.421   \n",
       "998      Larry    Male   4/20/2013         4:45 PM   60500   11.985   \n",
       "999     Albert    Male   5/15/2012         6:24 PM  129949   10.169   \n",
       "\n",
       "    Senior Management                  Team  \n",
       "0                True             Marketing  \n",
       "1                True                   NaN  \n",
       "2               False               Finance  \n",
       "3                True               Finance  \n",
       "4                True       Client Services  \n",
       "..                ...                   ...  \n",
       "995             False          Distribution  \n",
       "996             False               Finance  \n",
       "997             False               Product  \n",
       "998             False  Business Development  \n",
       "999              True                 Sales  \n",
       "\n",
       "[1000 rows x 8 columns]"
      ]
     },
     "metadata": {},
     "output_type": "display_data"
    }
   ],
   "source": [
    "# เขียน condition ว่าให้เช็คคอลัมน์ Salary ว่าถ้าเงินเดือนมีค่าเกิน 10000 ให้เอาข้อมูลแถวนั้นมาถ้าเงินเดือนมีค่าน้อยกว่า 10000 จะไม่เอามา\n",
    "# แล้วก็จะได้ตารางข้อมูลที่เงินเดือนเกิน 10000\n",
    "employees2 = df[df[\"Salary\"] > 10000]\n",
    "display(employees2)"
   ]
  },
  {
   "cell_type": "markdown",
   "metadata": {
    "id": "V7lBUtfZqbYq"
   },
   "source": [
    "ดึงข้อมูลของพนักงานที่อยู่ใน ทีม Finance กับ Sales"
   ]
  },
  {
   "cell_type": "code",
   "execution_count": 9,
   "metadata": {
    "id": "4ePlf-Dyqju_"
   },
   "outputs": [
    {
     "data": {
      "text/html": [
       "<div>\n",
       "<style scoped>\n",
       "    .dataframe tbody tr th:only-of-type {\n",
       "        vertical-align: middle;\n",
       "    }\n",
       "\n",
       "    .dataframe tbody tr th {\n",
       "        vertical-align: top;\n",
       "    }\n",
       "\n",
       "    .dataframe thead th {\n",
       "        text-align: right;\n",
       "    }\n",
       "</style>\n",
       "<table border=\"1\" class=\"dataframe\">\n",
       "  <thead>\n",
       "    <tr style=\"text-align: right;\">\n",
       "      <th></th>\n",
       "      <th>First Name</th>\n",
       "      <th>Gender</th>\n",
       "      <th>Start Date</th>\n",
       "      <th>Last Login Time</th>\n",
       "      <th>Salary</th>\n",
       "      <th>Bonus %</th>\n",
       "      <th>Senior Management</th>\n",
       "      <th>Team</th>\n",
       "    </tr>\n",
       "  </thead>\n",
       "  <tbody>\n",
       "    <tr>\n",
       "      <th>2</th>\n",
       "      <td>Maria</td>\n",
       "      <td>Female</td>\n",
       "      <td>4/23/1993</td>\n",
       "      <td>11:17 AM</td>\n",
       "      <td>130590</td>\n",
       "      <td>11.858</td>\n",
       "      <td>False</td>\n",
       "      <td>Finance</td>\n",
       "    </tr>\n",
       "    <tr>\n",
       "      <th>3</th>\n",
       "      <td>Jerry</td>\n",
       "      <td>Male</td>\n",
       "      <td>3/4/2005</td>\n",
       "      <td>1:00 PM</td>\n",
       "      <td>138705</td>\n",
       "      <td>9.340</td>\n",
       "      <td>True</td>\n",
       "      <td>Finance</td>\n",
       "    </tr>\n",
       "    <tr>\n",
       "      <th>7</th>\n",
       "      <td>NaN</td>\n",
       "      <td>Female</td>\n",
       "      <td>7/20/2015</td>\n",
       "      <td>10:43 AM</td>\n",
       "      <td>45906</td>\n",
       "      <td>11.598</td>\n",
       "      <td>NaN</td>\n",
       "      <td>Finance</td>\n",
       "    </tr>\n",
       "    <tr>\n",
       "      <th>13</th>\n",
       "      <td>Gary</td>\n",
       "      <td>Male</td>\n",
       "      <td>1/27/2008</td>\n",
       "      <td>11:40 PM</td>\n",
       "      <td>109831</td>\n",
       "      <td>5.831</td>\n",
       "      <td>False</td>\n",
       "      <td>Sales</td>\n",
       "    </tr>\n",
       "    <tr>\n",
       "      <th>14</th>\n",
       "      <td>Kimberly</td>\n",
       "      <td>Female</td>\n",
       "      <td>1/14/1999</td>\n",
       "      <td>7:13 AM</td>\n",
       "      <td>41426</td>\n",
       "      <td>14.543</td>\n",
       "      <td>True</td>\n",
       "      <td>Finance</td>\n",
       "    </tr>\n",
       "    <tr>\n",
       "      <th>...</th>\n",
       "      <td>...</td>\n",
       "      <td>...</td>\n",
       "      <td>...</td>\n",
       "      <td>...</td>\n",
       "      <td>...</td>\n",
       "      <td>...</td>\n",
       "      <td>...</td>\n",
       "      <td>...</td>\n",
       "    </tr>\n",
       "    <tr>\n",
       "      <th>975</th>\n",
       "      <td>Susan</td>\n",
       "      <td>Female</td>\n",
       "      <td>4/7/1995</td>\n",
       "      <td>10:05 PM</td>\n",
       "      <td>92436</td>\n",
       "      <td>12.467</td>\n",
       "      <td>False</td>\n",
       "      <td>Sales</td>\n",
       "    </tr>\n",
       "    <tr>\n",
       "      <th>987</th>\n",
       "      <td>Gloria</td>\n",
       "      <td>Female</td>\n",
       "      <td>12/8/2014</td>\n",
       "      <td>5:08 AM</td>\n",
       "      <td>136709</td>\n",
       "      <td>10.331</td>\n",
       "      <td>True</td>\n",
       "      <td>Finance</td>\n",
       "    </tr>\n",
       "    <tr>\n",
       "      <th>992</th>\n",
       "      <td>Anthony</td>\n",
       "      <td>Male</td>\n",
       "      <td>10/16/2011</td>\n",
       "      <td>8:35 AM</td>\n",
       "      <td>112769</td>\n",
       "      <td>11.625</td>\n",
       "      <td>True</td>\n",
       "      <td>Finance</td>\n",
       "    </tr>\n",
       "    <tr>\n",
       "      <th>996</th>\n",
       "      <td>Phillip</td>\n",
       "      <td>Male</td>\n",
       "      <td>1/31/1984</td>\n",
       "      <td>6:30 AM</td>\n",
       "      <td>42392</td>\n",
       "      <td>19.675</td>\n",
       "      <td>False</td>\n",
       "      <td>Finance</td>\n",
       "    </tr>\n",
       "    <tr>\n",
       "      <th>999</th>\n",
       "      <td>Albert</td>\n",
       "      <td>Male</td>\n",
       "      <td>5/15/2012</td>\n",
       "      <td>6:24 PM</td>\n",
       "      <td>129949</td>\n",
       "      <td>10.169</td>\n",
       "      <td>True</td>\n",
       "      <td>Sales</td>\n",
       "    </tr>\n",
       "  </tbody>\n",
       "</table>\n",
       "<p>196 rows × 8 columns</p>\n",
       "</div>"
      ],
      "text/plain": [
       "    First Name  Gender  Start Date Last Login Time  Salary  Bonus %  \\\n",
       "2        Maria  Female   4/23/1993        11:17 AM  130590   11.858   \n",
       "3        Jerry    Male    3/4/2005         1:00 PM  138705    9.340   \n",
       "7          NaN  Female   7/20/2015        10:43 AM   45906   11.598   \n",
       "13        Gary    Male   1/27/2008        11:40 PM  109831    5.831   \n",
       "14    Kimberly  Female   1/14/1999         7:13 AM   41426   14.543   \n",
       "..         ...     ...         ...             ...     ...      ...   \n",
       "975      Susan  Female    4/7/1995        10:05 PM   92436   12.467   \n",
       "987     Gloria  Female   12/8/2014         5:08 AM  136709   10.331   \n",
       "992    Anthony    Male  10/16/2011         8:35 AM  112769   11.625   \n",
       "996    Phillip    Male   1/31/1984         6:30 AM   42392   19.675   \n",
       "999     Albert    Male   5/15/2012         6:24 PM  129949   10.169   \n",
       "\n",
       "    Senior Management     Team  \n",
       "2               False  Finance  \n",
       "3                True  Finance  \n",
       "7                 NaN  Finance  \n",
       "13              False    Sales  \n",
       "14               True  Finance  \n",
       "..                ...      ...  \n",
       "975             False    Sales  \n",
       "987              True  Finance  \n",
       "992              True  Finance  \n",
       "996             False  Finance  \n",
       "999              True    Sales  \n",
       "\n",
       "[196 rows x 8 columns]"
      ]
     },
     "metadata": {},
     "output_type": "display_data"
    }
   ],
   "source": [
    "# ตรง condition ใช้ method isin เพื่อเช็คว่าค่าของข้อมูลในคอลัมน์ Team ว่าถ้าค่ามีค่าเป็น Finance หรือ Sales \n",
    "# ก็จะเลือกข้อมูลของแถวนั้นมาแล้วก็จะได้ตารางข้อมูลที่มี Team เป็น Finance กับ Sales\n",
    "employees3 = df[df[\"Team\"].isin([\"Finance\", \"Sales\"])]\n",
    "display(employees3)"
   ]
  },
  {
   "cell_type": "markdown",
   "metadata": {
    "id": "IRZ2uWo0rtxz"
   },
   "source": [
    "ดึงข้อมูลชื่อของคนที่ได้เงินเดือนมากกว่า 100000"
   ]
  },
  {
   "cell_type": "code",
   "execution_count": 10,
   "metadata": {
    "id": "WhkSt980r3qc"
   },
   "outputs": [
    {
     "data": {
      "text/html": [
       "<div>\n",
       "<style scoped>\n",
       "    .dataframe tbody tr th:only-of-type {\n",
       "        vertical-align: middle;\n",
       "    }\n",
       "\n",
       "    .dataframe tbody tr th {\n",
       "        vertical-align: top;\n",
       "    }\n",
       "\n",
       "    .dataframe thead th {\n",
       "        text-align: right;\n",
       "    }\n",
       "</style>\n",
       "<table border=\"1\" class=\"dataframe\">\n",
       "  <thead>\n",
       "    <tr style=\"text-align: right;\">\n",
       "      <th></th>\n",
       "      <th>First Name</th>\n",
       "      <th>Gender</th>\n",
       "      <th>Start Date</th>\n",
       "      <th>Last Login Time</th>\n",
       "      <th>Salary</th>\n",
       "      <th>Bonus %</th>\n",
       "      <th>Senior Management</th>\n",
       "      <th>Team</th>\n",
       "    </tr>\n",
       "  </thead>\n",
       "  <tbody>\n",
       "    <tr>\n",
       "      <th>2</th>\n",
       "      <td>Maria</td>\n",
       "      <td>Female</td>\n",
       "      <td>4/23/1993</td>\n",
       "      <td>11:17 AM</td>\n",
       "      <td>130590</td>\n",
       "      <td>11.858</td>\n",
       "      <td>False</td>\n",
       "      <td>Finance</td>\n",
       "    </tr>\n",
       "    <tr>\n",
       "      <th>3</th>\n",
       "      <td>Jerry</td>\n",
       "      <td>Male</td>\n",
       "      <td>3/4/2005</td>\n",
       "      <td>1:00 PM</td>\n",
       "      <td>138705</td>\n",
       "      <td>9.340</td>\n",
       "      <td>True</td>\n",
       "      <td>Finance</td>\n",
       "    </tr>\n",
       "    <tr>\n",
       "      <th>4</th>\n",
       "      <td>Larry</td>\n",
       "      <td>Male</td>\n",
       "      <td>1/24/1998</td>\n",
       "      <td>4:47 PM</td>\n",
       "      <td>101004</td>\n",
       "      <td>1.389</td>\n",
       "      <td>True</td>\n",
       "      <td>Client Services</td>\n",
       "    </tr>\n",
       "    <tr>\n",
       "      <th>5</th>\n",
       "      <td>Dennis</td>\n",
       "      <td>Male</td>\n",
       "      <td>4/18/1987</td>\n",
       "      <td>1:35 AM</td>\n",
       "      <td>115163</td>\n",
       "      <td>10.125</td>\n",
       "      <td>False</td>\n",
       "      <td>Legal</td>\n",
       "    </tr>\n",
       "    <tr>\n",
       "      <th>9</th>\n",
       "      <td>Frances</td>\n",
       "      <td>Female</td>\n",
       "      <td>8/8/2002</td>\n",
       "      <td>6:51 AM</td>\n",
       "      <td>139852</td>\n",
       "      <td>7.524</td>\n",
       "      <td>True</td>\n",
       "      <td>Business Development</td>\n",
       "    </tr>\n",
       "    <tr>\n",
       "      <th>...</th>\n",
       "      <td>...</td>\n",
       "      <td>...</td>\n",
       "      <td>...</td>\n",
       "      <td>...</td>\n",
       "      <td>...</td>\n",
       "      <td>...</td>\n",
       "      <td>...</td>\n",
       "      <td>...</td>\n",
       "    </tr>\n",
       "    <tr>\n",
       "      <th>990</th>\n",
       "      <td>Robin</td>\n",
       "      <td>Female</td>\n",
       "      <td>7/24/1987</td>\n",
       "      <td>1:35 PM</td>\n",
       "      <td>100765</td>\n",
       "      <td>10.982</td>\n",
       "      <td>True</td>\n",
       "      <td>Client Services</td>\n",
       "    </tr>\n",
       "    <tr>\n",
       "      <th>991</th>\n",
       "      <td>Rose</td>\n",
       "      <td>Female</td>\n",
       "      <td>8/25/2002</td>\n",
       "      <td>5:12 AM</td>\n",
       "      <td>134505</td>\n",
       "      <td>11.051</td>\n",
       "      <td>True</td>\n",
       "      <td>Marketing</td>\n",
       "    </tr>\n",
       "    <tr>\n",
       "      <th>992</th>\n",
       "      <td>Anthony</td>\n",
       "      <td>Male</td>\n",
       "      <td>10/16/2011</td>\n",
       "      <td>8:35 AM</td>\n",
       "      <td>112769</td>\n",
       "      <td>11.625</td>\n",
       "      <td>True</td>\n",
       "      <td>Finance</td>\n",
       "    </tr>\n",
       "    <tr>\n",
       "      <th>995</th>\n",
       "      <td>Henry</td>\n",
       "      <td>NaN</td>\n",
       "      <td>11/23/2014</td>\n",
       "      <td>6:09 AM</td>\n",
       "      <td>132483</td>\n",
       "      <td>16.655</td>\n",
       "      <td>False</td>\n",
       "      <td>Distribution</td>\n",
       "    </tr>\n",
       "    <tr>\n",
       "      <th>999</th>\n",
       "      <td>Albert</td>\n",
       "      <td>Male</td>\n",
       "      <td>5/15/2012</td>\n",
       "      <td>6:24 PM</td>\n",
       "      <td>129949</td>\n",
       "      <td>10.169</td>\n",
       "      <td>True</td>\n",
       "      <td>Sales</td>\n",
       "    </tr>\n",
       "  </tbody>\n",
       "</table>\n",
       "<p>409 rows × 8 columns</p>\n",
       "</div>"
      ],
      "text/plain": [
       "    First Name  Gender  Start Date Last Login Time  Salary  Bonus %  \\\n",
       "2        Maria  Female   4/23/1993        11:17 AM  130590   11.858   \n",
       "3        Jerry    Male    3/4/2005         1:00 PM  138705    9.340   \n",
       "4        Larry    Male   1/24/1998         4:47 PM  101004    1.389   \n",
       "5       Dennis    Male   4/18/1987         1:35 AM  115163   10.125   \n",
       "9      Frances  Female    8/8/2002         6:51 AM  139852    7.524   \n",
       "..         ...     ...         ...             ...     ...      ...   \n",
       "990      Robin  Female   7/24/1987         1:35 PM  100765   10.982   \n",
       "991       Rose  Female   8/25/2002         5:12 AM  134505   11.051   \n",
       "992    Anthony    Male  10/16/2011         8:35 AM  112769   11.625   \n",
       "995      Henry     NaN  11/23/2014         6:09 AM  132483   16.655   \n",
       "999     Albert    Male   5/15/2012         6:24 PM  129949   10.169   \n",
       "\n",
       "    Senior Management                  Team  \n",
       "2               False               Finance  \n",
       "3                True               Finance  \n",
       "4                True       Client Services  \n",
       "5               False                 Legal  \n",
       "9                True  Business Development  \n",
       "..                ...                   ...  \n",
       "990              True       Client Services  \n",
       "991              True             Marketing  \n",
       "992              True               Finance  \n",
       "995             False          Distribution  \n",
       "999              True                 Sales  \n",
       "\n",
       "[409 rows x 8 columns]"
      ]
     },
     "metadata": {},
     "output_type": "display_data"
    }
   ],
   "source": [
    "# เขียน condition ว่าให้เช็คคอลัมน์ Salary ว่าถ้าเงินเดือนมีค่ามากกว่า 100000 ให้เอาข้อมูลแถวนั้นมาถ้าเงินเดือนมีค่าน้อยกว่า 100000 จะไม่เอามา\n",
    "# แล้วก็จะได้ตารางข้อมูลที่เงินเดือนมากกว่า 100000\n",
    "employees4 = df[df[\"Salary\"] >= 100_000]\n",
    "display(employees4)"
   ]
  }
 ],
 "metadata": {
  "colab": {
   "provenance": []
  },
  "kernelspec": {
   "display_name": "Python 3",
   "name": "python3"
  },
  "language_info": {
   "codemirror_mode": {
    "name": "ipython",
    "version": 3
   },
   "file_extension": ".py",
   "mimetype": "text/x-python",
   "name": "python",
   "nbconvert_exporter": "python",
   "pygments_lexer": "ipython3",
   "version": "3.12.3"
  }
 },
 "nbformat": 4,
 "nbformat_minor": 0
}
