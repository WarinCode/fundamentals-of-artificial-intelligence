{
 "cells": [
  {
   "cell_type": "markdown",
   "metadata": {},
   "source": [
    "# HW#3_Data_Cleaning"
   ]
  },
  {
   "cell_type": "markdown",
   "metadata": {},
   "source": [
    "นาย วรินทร์ สายปัญญา รหัสนิสิต 6630250435 sec.870"
   ]
  },
  {
   "cell_type": "markdown",
   "metadata": {},
   "source": [
    "### ติดตั้ง libraries ก่อนรัน cell โค้ด"
   ]
  },
  {
   "cell_type": "code",
   "execution_count": 112,
   "metadata": {},
   "outputs": [
    {
     "name": "stdout",
     "output_type": "stream",
     "text": [
      "Requirement already satisfied: pandas in c:\\users\\warin\\appdata\\local\\programs\\python\\python312\\lib\\site-packages (2.2.3)Note: you may need to restart the kernel to use updated packages.\n",
      "\n",
      "Requirement already satisfied: numpy>=1.26.0 in c:\\users\\warin\\appdata\\local\\programs\\python\\python312\\lib\\site-packages (from pandas) (2.0.1)\n",
      "Requirement already satisfied: python-dateutil>=2.8.2 in c:\\users\\warin\\appdata\\roaming\\python\\python312\\site-packages (from pandas) (2.9.0.post0)\n",
      "Requirement already satisfied: pytz>=2020.1 in c:\\users\\warin\\appdata\\local\\programs\\python\\python312\\lib\\site-packages (from pandas) (2024.2)\n",
      "Requirement already satisfied: tzdata>=2022.7 in c:\\users\\warin\\appdata\\local\\programs\\python\\python312\\lib\\site-packages (from pandas) (2024.2)\n",
      "Requirement already satisfied: six>=1.5 in c:\\users\\warin\\appdata\\roaming\\python\\python312\\site-packages (from python-dateutil>=2.8.2->pandas) (1.16.0)\n",
      "Requirement already satisfied: matplotlib in c:\\users\\warin\\appdata\\local\\programs\\python\\python312\\lib\\site-packages (3.10.0)\n",
      "Requirement already satisfied: contourpy>=1.0.1 in c:\\users\\warin\\appdata\\local\\programs\\python\\python312\\lib\\site-packages (from matplotlib) (1.3.1)\n",
      "Requirement already satisfied: cycler>=0.10 in c:\\users\\warin\\appdata\\local\\programs\\python\\python312\\lib\\site-packages (from matplotlib) (0.12.1)\n",
      "Requirement already satisfied: fonttools>=4.22.0 in c:\\users\\warin\\appdata\\local\\programs\\python\\python312\\lib\\site-packages (from matplotlib) (4.55.3)\n",
      "Requirement already satisfied: kiwisolver>=1.3.1 in c:\\users\\warin\\appdata\\local\\programs\\python\\python312\\lib\\site-packages (from matplotlib) (1.4.7)\n",
      "Requirement already satisfied: numpy>=1.23 in c:\\users\\warin\\appdata\\local\\programs\\python\\python312\\lib\\site-packages (from matplotlib) (2.0.1)\n",
      "Requirement already satisfied: packaging>=20.0 in c:\\users\\warin\\appdata\\roaming\\python\\python312\\site-packages (from matplotlib) (24.1)\n",
      "Requirement already satisfied: pillow>=8 in c:\\users\\warin\\appdata\\local\\programs\\python\\python312\\lib\\site-packages (from matplotlib) (11.0.0)\n",
      "Requirement already satisfied: pyparsing>=2.3.1 in c:\\users\\warin\\appdata\\local\\programs\\python\\python312\\lib\\site-packages (from matplotlib) (3.1.2)\n",
      "Requirement already satisfied: python-dateutil>=2.7 in c:\\users\\warin\\appdata\\roaming\\python\\python312\\site-packages (from matplotlib) (2.9.0.post0)\n",
      "Requirement already satisfied: six>=1.5 in c:\\users\\warin\\appdata\\roaming\\python\\python312\\site-packages (from python-dateutil>=2.7->matplotlib) (1.16.0)\n",
      "Note: you may need to restart the kernel to use updated packages.\n"
     ]
    }
   ],
   "source": [
    "%pip install pandas\n",
    "%pip install matplotlib"
   ]
  },
  {
   "cell_type": "markdown",
   "metadata": {},
   "source": [
    "### อธิบายโค้ด"
   ]
  },
  {
   "cell_type": "markdown",
   "metadata": {},
   "source": [
    "นำเข้า module library ของ pandas จากนั้นทำการอ่านไฟล์ข้อมูล csv โดยใช้ method read_csv จะได้ข้อมูลเป็น dataframe มาแล้วเก็บลงตัวแปร df จากนั้นทำการ แสดงตารางข้อมูลโดยใช้ method head แสดงรายการ 5 แถวแรก"
   ]
  },
  {
   "cell_type": "code",
   "execution_count": 50,
   "metadata": {},
   "outputs": [
    {
     "name": "stdout",
     "output_type": "stream",
     "text": [
      "    mpg  cylinders  displacement horsepower  weight  acceleration  model year  \\\n",
      "0  18.0          8         307.0        130    3504          12.0          70   \n",
      "1  15.0          8         350.0        165    3693          11.5          70   \n",
      "2  18.0          8         318.0        150    3436          11.0          70   \n",
      "3  16.0          8         304.0        150    3433          12.0          70   \n",
      "4  17.0          8         302.0        140    3449          10.5          70   \n",
      "\n",
      "   origin                   car name  \n",
      "0       1  chevrolet chevelle malibu  \n",
      "1       1          buick skylark 320  \n",
      "2       1         plymouth satellite  \n",
      "3       1              amc rebel sst  \n",
      "4       1                ford torino  \n"
     ]
    }
   ],
   "source": [
    "import pandas as pd\n",
    "\n",
    "df = pd.read_csv(\"auto-mpg.csv\")\n",
    "\n",
    "print(df.head())"
   ]
  },
  {
   "cell_type": "markdown",
   "metadata": {},
   "source": [
    "### ค่าว่าง (null) และ การจัดการค่าว่าง"
   ]
  },
  {
   "cell_type": "markdown",
   "metadata": {},
   "source": [
    "เช็คข้อมูลที่เป็นว่างแต่ละแถวใน dataframe โดยใช้ method isnull และ sum \n",
    "1. คำสั่งแรกเป็นการเช็คข้อมูลทุกแถวที่เป็นค่าว่างเปล่าแล้วใช้ method sum ต่อเพื่อนับจำนวนของค่าว่าง\n",
    "2. คำสั่งที่สอง เป็นการเช็คข้อมูลทุกแถวที่เป็นค่าว่างเปล่าถ้าเป็นข้อมูลที่เป็นค่าว่างได้ True ถ้าไม่ใช้ค่าว่างได้ False\n",
    "\n",
    "จะสังเกตุผลลัพธ์ที่ได้ว่าตารางข้อมูลนั้นไม่มีข้อมูลที่เป็นค่าว่าง null (สังเกตุจากคำสั่งแรกจะนับจำนวนข้อมูลที่เป็นค่าว่างทุกคอลัมน์นั้นไม่มีค่าว่างเลขจึงเป็น 0 ทุกคอลัมน์) เลยจึงไม่จำเป็นต้องจัดการกับค่าว่างใดๆ"
   ]
  },
  {
   "cell_type": "code",
   "execution_count": 51,
   "metadata": {},
   "outputs": [
    {
     "name": "stdout",
     "output_type": "stream",
     "text": [
      "mpg             0\n",
      "cylinders       0\n",
      "displacement    0\n",
      "horsepower      0\n",
      "weight          0\n",
      "acceleration    0\n",
      "model year      0\n",
      "origin          0\n",
      "car name        0\n",
      "dtype: int64\n",
      "       mpg  cylinders  displacement  horsepower  weight  acceleration  \\\n",
      "0    False      False         False       False   False         False   \n",
      "1    False      False         False       False   False         False   \n",
      "2    False      False         False       False   False         False   \n",
      "3    False      False         False       False   False         False   \n",
      "4    False      False         False       False   False         False   \n",
      "..     ...        ...           ...         ...     ...           ...   \n",
      "393  False      False         False       False   False         False   \n",
      "394  False      False         False       False   False         False   \n",
      "395  False      False         False       False   False         False   \n",
      "396  False      False         False       False   False         False   \n",
      "397  False      False         False       False   False         False   \n",
      "\n",
      "     model year  origin  car name  \n",
      "0         False   False     False  \n",
      "1         False   False     False  \n",
      "2         False   False     False  \n",
      "3         False   False     False  \n",
      "4         False   False     False  \n",
      "..          ...     ...       ...  \n",
      "393       False   False     False  \n",
      "394       False   False     False  \n",
      "395       False   False     False  \n",
      "396       False   False     False  \n",
      "397       False   False     False  \n",
      "\n",
      "[398 rows x 9 columns]\n"
     ]
    }
   ],
   "source": [
    "print(df.isnull().sum())\n",
    "print(df.isnull())"
   ]
  },
  {
   "cell_type": "markdown",
   "metadata": {},
   "source": [
    "### จัดการค่าผิดปกติของข้อมูล"
   ]
  },
  {
   "cell_type": "markdown",
   "metadata": {},
   "source": [
    "เนื่องจากได้ดูข้อมูลใน csv และตรวจสอบแล้วมีเพียงแค่ค่าข้อมูลในคอลัมน์ horsepower ที่มีเครื่องหมาย ? ที่ผิดปกติในบางจุดเราจะนำไปจัดการในหัวข้อ ข้อมูลที่อยู่ในรูปแบบไม่ถูกต้อง แทน "
   ]
  },
  {
   "cell_type": "markdown",
   "metadata": {},
   "source": [
    "### จัดการข้อมูลซ้ำ"
   ]
  },
  {
   "cell_type": "markdown",
   "metadata": {},
   "source": [
    "เช็คข้อมูลแถวที่ซ้ำกันโดยเราจะกำหนดให้ว่ามีตัวแปร is_duplicated นั้นจะทำการเก็บข้อมูลเป็นชนิด boolean ที่มีค่าเป็น False ตอนเริ่มต้นเพื่อเป็นตัวบ่งบอกว่าข้อมูลในแถวนั้นมีค่าซ้ำกันไหม ถ้าเป็น True แปลว่ามีแถวที่ซ้ำกัน ถ้าเป็น False แปลว่าแถวไม่ซ้ำกัน จากนั้นเราทำการวน for loop แล้วเรียกใช้ method duplicated จะเป็นการเช็คแถวนั้นว่าค่าซ้ำกันไหม ถ้า True ข้อมูลแถวนั้นเป็นค่าซ้ำ ถ้า False ข้อมูลแถวนั้นไม่เป็นค่าซ้ำ ให้ตัวแปร i วน loop รับค่าข้อมูลจาก duplicated ทีละรอบ แล้วใน for loop เช็ค if ว่าถ้า i เป็น True จะให้กำหนดให้ is_duplicated เป็นค่า True แล้วออกจาก loop เมื่อจบจาก loop เราจะมาเช็ค if else ต่อว่าถ้า is_duplicated เป็น True แปลว่ามีข้อมูลซ้ำให้ใช้ method drop_duplicates เพื่อลบทุกแถวที่เป็นค่าซ้ำแล้วแสดงผลลัพธ์ออกมาว่ามีการลบข้อมูลซ้ำ ถ้า is_duplicated เป็น False ก็แสดงว่าตารางข้อมูลนั้นไม่มีข้อมูลที่มีค่าซ้ำกันเลยจึงแสดงผลลัพธ์ว่าไม่มีข้อมูลค่าซ้ำกัน จึงไม่ต้องจัดการข้อมูลที่มีค่าซ้ำกัน"
   ]
  },
  {
   "cell_type": "code",
   "execution_count": 52,
   "metadata": {},
   "outputs": [
    {
     "name": "stdout",
     "output_type": "stream",
     "text": [
      "ไม่มีข้อมูลแถวที่ซ้ำกัน\n"
     ]
    }
   ],
   "source": [
    "is_duplicated = False\n",
    "\n",
    "for i in df.duplicated():\n",
    "    if i:\n",
    "        is_duplicated = True\n",
    "        break\n",
    "    \n",
    "if is_duplicated:\n",
    "    df.drop_duplicates()  \n",
    "    print('ลบข้อมูลแถวที่ซ้ำกันเรียบร้อย')\n",
    "else:\n",
    "    print('ไม่มีข้อมูลแถวที่ซ้ำกัน')"
   ]
  },
  {
   "cell_type": "markdown",
   "metadata": {},
   "source": [
    "### จัดการข้อมูลที่อยู่ในรูปแบบไม่ถูกต้อง"
   ]
  },
  {
   "cell_type": "markdown",
   "metadata": {},
   "source": [
    "เช็คข้อมูลในแต่ละคอลัมน์ว่าเป็นชนิดอะไรบ้าง"
   ]
  },
  {
   "cell_type": "code",
   "execution_count": 53,
   "metadata": {},
   "outputs": [
    {
     "name": "stdout",
     "output_type": "stream",
     "text": [
      "mpg             float64\n",
      "cylinders         int64\n",
      "displacement    float64\n",
      "horsepower       object\n",
      "weight            int64\n",
      "acceleration    float64\n",
      "model year        int64\n",
      "origin            int64\n",
      "car name         object\n",
      "dtype: object\n"
     ]
    }
   ],
   "source": [
    "print(df.dtypes)"
   ]
  },
  {
   "cell_type": "markdown",
   "metadata": {},
   "source": [
    "ทดลองดึงข้อมูลในคอลัมน์ horsepower เริ่มตั้งแต่แถวที่ 30 ถึงแถวที่ 40 เราจะสังเกตุได้ว่าข้อมูลในคอลัมน์ horsepower นั้นเป็นเลขแต่บางอันก็เป็นเครื่องหมาย ? ต่อมาเราเช็คอีกว่ามีเครื่องหมาย ? นี้ในแถวไหนบ้างก็เขียนคำสั่งที่ 2 ลงไปก็จะได้แถวที่มีเครื่องหมาย ? ในคอลัมน์ horsepower ณ จุดนี้เราเห็นปัญหาแล้วว่าข้อมูลในคอลัมน์ horsepower ควรเป็นชนิดข้อมูลที่เป็นเลขจำนวนเต็ม ไม่ใช้ ชนิด object หรือ string ที่รันใน cell ก่อนหน้า แปลว่าข้อมูลในคอลัมน์นี้มีรูปแบบที่ไม่ถูกต้อง \n",
    "\n",
    "ปัญหาที่ต้องจัดการ\n",
    "1. แก้ไขสัญลักษณ์ ? เป็นเลขจำนวนเต็ม\n",
    "2. แก้ไขชนิดข้อมูลของคอลัมน์จาก string เป็น int"
   ]
  },
  {
   "cell_type": "code",
   "execution_count": 54,
   "metadata": {},
   "outputs": [
    {
     "name": "stdout",
     "output_type": "stream",
     "text": [
      "30     90\n",
      "31     95\n",
      "32      ?\n",
      "33    100\n",
      "34    105\n",
      "35    100\n",
      "36     88\n",
      "37    100\n",
      "38    165\n",
      "39    175\n",
      "40    153\n",
      "Name: horsepower, dtype: object\n",
      "      mpg  cylinders  displacement horsepower  weight  acceleration  \\\n",
      "32   25.0          4          98.0          ?    2046          19.0   \n",
      "126  21.0          6         200.0          ?    2875          17.0   \n",
      "330  40.9          4          85.0          ?    1835          17.3   \n",
      "336  23.6          4         140.0          ?    2905          14.3   \n",
      "354  34.5          4         100.0          ?    2320          15.8   \n",
      "374  23.0          4         151.0          ?    3035          20.5   \n",
      "\n",
      "     model year  origin              car name  \n",
      "32           71       1            ford pinto  \n",
      "126          74       1         ford maverick  \n",
      "330          80       2  renault lecar deluxe  \n",
      "336          80       1    ford mustang cobra  \n",
      "354          81       2           renault 18i  \n",
      "374          82       1        amc concord dl  \n"
     ]
    }
   ],
   "source": [
    "print(df[\"horsepower\"][30 : 41])\n",
    "print(df[df[\"horsepower\"] == \"?\"])"
   ]
  },
  {
   "cell_type": "markdown",
   "metadata": {},
   "source": [
    "เราจะแก้ไขทั้ง 2 ปัญหา \n",
    "โดยเริ่มต้นเรา import module math เข้ามาก่อนต่อจากนั้นเราสร้างตัวแปร indexes ไว้จะเก็บเลข index ของเครื่องหมาย ? แต่ละแถว ต่อมาเขียน for loop ให้ i รับค่าจาก attribute df.index ที่เป็น range วน loop ตามจำนวนข้อมูลของตารางข้อมูล ด้านในใส่ if เช็คว่าถ้าค่าของข้อมูลในคอลัมน์ horsepower เป็นเครื่องหมาย ? หรือไม่ ถ้าเป็นจริงให้แก้ไขค่าของข้อมูลในคอลัมน์นั้นเป็นเลข 0 ไปก่อนแล้วเก็บตำแหน่ง index ของตำแหน่งนั้นไว้ จากนั้นเมื่อวน loop เสร็จให้แก้ไขชนิดข้อมูลในคอลัมน์ horsepower จาก object(string) เป็น int โดยใช้ method to_numeric ส่ง argument เป็นข้อมูลของคอลัมน์ horsepower\n",
    "เมื่อแก้ไขเสร็จเราจะเปลี่ยนข้อมูลที่เรากำหนดค่าเป็น 0 ไว้ก่อนหน้านั้น ให้เป็นค่า mean ของคอลัมน์ horsepower แทน ใช้ method mean เพื่อได้ค่าเฉลี่ยเป็น floot แล้วเราใช้ method trunc เพื่อตัดทศนิยมออกเพราะเราต้องการชนิดข้อมูลที่เป็น int ต่อจากนั้นเขียน for loop รอบที่ 2 โดยให้วน loop รับค่า elements จาก indexes ที่เราเก็บเลข index ของเครื่องหมาย ? ไว้ก่อนแล้ว\n",
    "แก้ไขตามตพแหน่งของ index โดยค่าของข้อมูลจากค่า 0 เป็นค่า mean แทน\n",
    "สุดท้่ายแสดงผลลัพธ์ของข้่อมูลในคอลัมน์ horsepower เริ่มจากแถวที่ 30 ถึงแถวที่ 40 จะสังเกตุว่าเมื่อก่อนแถวที่ 32 มีค่าเป็น ? แต่ตอนนี้เป็นค่า 102 แล้ว\n",
    "\n",
    "สิ่งที่แก้ไขคือ\n",
    "แก้ไขจาก ? เป็น ค่าเฉลี่ยของคอลัมน์ horsepower แทน\n",
    "แก้ไขชนิดของคอลัมน์จาก object เป็น int64 แทน"
   ]
  },
  {
   "cell_type": "code",
   "execution_count": 55,
   "metadata": {},
   "outputs": [
    {
     "name": "stdout",
     "output_type": "stream",
     "text": [
      "30     90\n",
      "31     95\n",
      "32    102\n",
      "33    100\n",
      "34    105\n",
      "35    100\n",
      "36     88\n",
      "37    100\n",
      "38    165\n",
      "39    175\n",
      "40    153\n",
      "Name: horsepower, dtype: int64\n"
     ]
    }
   ],
   "source": [
    "import math\n",
    "\n",
    "indexes = []\n",
    "\n",
    "for i in df.index:\n",
    "    if df.loc[i, \"horsepower\"] == \"?\":\n",
    "        df.loc[i, \"horsepower\"] = \"0\"\n",
    "        indexes.append(i)\n",
    "\n",
    "df[\"horsepower\"] = pd.to_numeric(df[\"horsepower\"])\n",
    "mean = math.trunc(df[\"horsepower\"].mean())\n",
    "\n",
    "for j in indexes:\n",
    "    df.loc[j, \"horsepower\"] = mean\n",
    "    \n",
    "print(df[\"horsepower\"][30 : 41])"
   ]
  },
  {
   "cell_type": "markdown",
   "metadata": {},
   "source": [
    "### แสดงผลข้อมูลกราฟ"
   ]
  },
  {
   "cell_type": "markdown",
   "metadata": {},
   "source": [
    "นำเข้า module ของ library วาดกราฟ"
   ]
  },
  {
   "cell_type": "code",
   "execution_count": 57,
   "metadata": {},
   "outputs": [],
   "source": [
    "import matplotlib.pyplot as plt"
   ]
  },
  {
   "cell_type": "markdown",
   "metadata": {},
   "source": [
    "ดึงข้อมูลจากคอลัมน์ model year และ mpg เก็บลงตัวแปรโดยใช้วิธี index slicing \n",
    "โดยให้ start = 0, stop = 201, step = 40, จะเลือกข้อมูลในคอลัมน์ใน index ที่ 0, 40, 80, 120, 160 และ 200 \n",
    "รวมกันได้ข้อมูลมา 6 จำนวนนำมาแสดงผลข้อมูลบนกราฟ"
   ]
  },
  {
   "cell_type": "code",
   "execution_count": 110,
   "metadata": {},
   "outputs": [
    {
     "data": {
      "image/png": "[encoded data removed]",
      "text/plain": [
       "<Figure size 640x480 with 1 Axes>"
      ]
     },
     "metadata": {},
     "output_type": "display_data"
    }
   ],
   "source": [
    "model_years = df[\"model year\"][0:201:40]\n",
    "mpgs = df[\"mpg\"][0:201:40]\n",
    "\n",
    "plt.plot(model_years, mpgs)\n",
    "plt.title(\"model vs mpg\")\n",
    "plt.xlabel(\"model\")\n",
    "plt.ylabel(\"mpg\")\n",
    "plt.show()"
   ]
  },
  {
   "cell_type": "markdown",
   "metadata": {},
   "source": [
    "ดึงข้อมูลจากคอลัมน์ car name และ horsepower เก็บลงตัวแปรโดยใช้วิธี index slicing \n",
    "โดยให้ start = 0, stop = 21, step = 5, จะเลือกข้อมูลในคอลัมน์ใน index ที่ 0, 5, 10, 15 และ 20 \n",
    "รวมกันได้ข้อมูลมา 5 จำนวน โดยจะเอาชื่อรถมาแก้ต่อ ชื่อรถเราจะตัดเอามาเฉพาะแค่ชื่อด้านหน้าพอใช้ for loop ตัด string ที่เว้นว่างเพื่อเอาชื่อรถด้านหน้านำมาแสดง"
   ]
  },
  {
   "cell_type": "code",
   "execution_count": 111,
   "metadata": {},
   "outputs": [
    {
     "data": {
      "image/png": "[encoded data removed]",
      "text/plain": [
       "<Figure size 640x480 with 1 Axes>"
      ]
     },
     "metadata": {},
     "output_type": "display_data"
    }
   ],
   "source": [
    "car_names = df[\"car name\"][0:21:5]\n",
    "hp = df[\"horsepower\"][0:21:5]\n",
    "\n",
    "for i in range(0, 21, 5):\n",
    "    temp = car_names[i].split(\" \")\n",
    "    car_names[i] = temp[0]\n",
    "\n",
    "plt.bar(car_names, hp)\n",
    "plt.title(\"car vs horsepower\")\n",
    "plt.ylabel(\"horsepower\")\n",
    "plt.show()"
   ]
  }
 ],
 "metadata": {
  "kernelspec": {
   "display_name": "Python 3",
   "language": "python",
   "name": "python3"
  },
  "language_info": {
   "codemirror_mode": {
    "name": "ipython",
    "version": 3
   },
   "file_extension": ".py",
   "mimetype": "text/x-python",
   "name": "python",
   "nbconvert_exporter": "python",
   "pygments_lexer": "ipython3",
   "version": "3.12.3"
  }
 },
 "nbformat": 4,
 "nbformat_minor": 2
}
