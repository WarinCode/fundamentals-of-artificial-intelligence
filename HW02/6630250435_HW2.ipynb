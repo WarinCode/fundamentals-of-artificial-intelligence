{
 "cells": [
  {
   "cell_type": "markdown",
   "metadata": {},
   "source": [
    "### HW#2 _DataScrapping"
   ]
  },
  {
   "cell_type": "markdown",
   "metadata": {},
   "source": [
    "นาย วรินทร์ สายปัญญา รหัสนิสิต 6630250435 sec. 870"
   ]
  },
  {
   "cell_type": "markdown",
   "metadata": {},
   "source": [
    "<h2 align=\"center\">คำตอบของคำถาม 2 ข้อ</h2>\n",
    "\n",
    "##### 1.) Website ที่เลือกคือ [https://www.rottentomatoes.com](https://www.rottentomatoes.com/m/venom_the_last_dance/reviews?type=verified_audience)\n",
    "\n",
    "##### 2.) เป็น AI model มีรูปแบบที่วิเคราะห์สรุปข้อความรีวิวิจากผู้ชมหนังว่าหนังเรื่องนี้มีคุณภาพเป็นอย่างไรเหมาะกับผู้ชมแบบไหน โดยวิเคราะห์จากข้อความที่รีวิว และ คะแนนที่ให้\n",
    "\n",
    "\n",
    "---"
   ]
  },
  {
   "cell_type": "markdown",
   "metadata": {},
   "source": [
    "### อธิบายการทำงานของโค้ด"
   ]
  },
  {
   "cell_type": "markdown",
   "metadata": {},
   "source": [
    "นำเข้า modules ของ libraries ที่ต้องใช้"
   ]
  },
  {
   "cell_type": "code",
   "execution_count": 2,
   "metadata": {},
   "outputs": [],
   "source": [
    "from pandas import DataFrame\n",
    "from requests import get\n",
    "from bs4 import BeautifulSoup"
   ]
  },
  {
   "cell_type": "markdown",
   "metadata": {},
   "source": [
    "สร้างตัวแปรเก็บลิ้งของ url ไว้จากนั้นทำการยิง http request โดยใช้ method get เพื่อเอาข้อมูลหน้าเว็บมา และ สร้าง object ชื่อ soup โดยส่ง argument เป็นข้อมูลหน้าเว็บเข้าไป\n",
    "และ ทดสอบดึงชื่อหนังออกมาแสดง"
   ]
  },
  {
   "cell_type": "code",
   "execution_count": 3,
   "metadata": {},
   "outputs": [
    {
     "name": "stdout",
     "output_type": "stream",
     "text": [
      "รีวิวของหนังเรื่อง Venom: The Last Dance\n"
     ]
    }
   ],
   "source": [
    "url = 'https://www.rottentomatoes.com/m/venom_the_last_dance/reviews?type=verified_audience'\n",
    "resposne = get(url)\n",
    "soup = BeautifulSoup(resposne.content, \"html.parser\")\n",
    "\n",
    "print(f\"รีวิวของหนังเรื่อง {soup.find(\"a\", { 'data-qa': 'sidebar-media-link' }).string.strip()}\")"
   ]
  },
  {
   "cell_type": "markdown",
   "metadata": {},
   "source": [
    "สร้าง function สำหรับการดึงข้อมูล reviews\n",
    "1. เขียน selector เพื่อเข้าถึง elements ที่ต้องการโดยต้องการ content ด้านใน element\n",
    "2. สร้างตัวแปร reviews เป็น array ชนิด string แล้วใช้ method select ของ object soup ระบุ keyword argument เป็น selector เพื่อเข้าถึง elements จากนั้นจะได้ข้อมูลที่เป็น list ของ element มาจากนั้นทำการ loop element แต่ล่ะตัวเพื่อดึงข้อความ content ออกมา และ ใข้ method strip เพื่อลบ whitespace ออกจากข้อความ\n",
    "3. ต่อไป loop ข้อความใน list เพื่อลบตัวอักขระพิเศษ \"\\n\" ออกมาจากข้อความรีวิวด้านในโดยใช้ method find เพื่อบองถึงตำแหน่งเลข index ของอักขระพิเศษ ถ้าเจอจะได้เลข index มา ถ้าไม่เจอคืนค่ากลับมา -1 แล้วใช้ if else เช็คถ้าเจออักขระพิเศษใช้ method replace แทนข้อความของอักขระพิเศษ เป็น ข้อความว่าง จากนั้น return list ชนิด string ออกมาจาก function\n",
    "4. ทำการแสดงผลลัพธ์ข้อมูลของ function"
   ]
  },
  {
   "cell_type": "code",
   "execution_count": 4,
   "metadata": {},
   "outputs": [
    {
     "name": "stdout",
     "output_type": "stream",
     "text": [
      "['Fun if you enjoy the dumb humor and buddy cop dynamic they have, but not for me. Adios spidermanless spiderman villain', 'The bar wasn’t set very high for me so I throughly enjoyed it. Lots of laughs and cool action scenes. Will watch again once on Tubi!', 'It was good. Not great. But worth watching', 'Need to see Venom get a 4th movie with Spider-Man hopefully!!!! 🤞', 'I liked it all.The end was a little sad.', 'Funny, this is the new type of super hero', 'Loved it and seeing them all work together for the good of all species was a feel good time! I hope its not really the last venom but I understand if there isnt another one.', 'This movie was a pretty good way to wrap up the Trilogy. The real human dialog was very entertaining, this movie held my attention the entire time. It made me feel all the human emotions', 'Venom the last dance is an ok movie  I enjoyed it for what it was  The beginning was great funny  But during the middle it got me bored in sleepy at the same time  But during the ending where all the symbiotes came in work together to fight was awesome  Otherwise 5/10 not a bad film just an ok fun film', 'Waiting for Venom 4!', 'Awesome absolutely loved it !', 'Movie was cool had good action could have had more.', 'Great follow-up to previous two movies with a lot of closure, but also enough open ends to allow for continuation of story in future movies', 'some parts are too long and would almost be better without the departing from main story line, and some story lines need more in depth time to figure out what that story means to the main story and plot', 'Absolutely love the movie I am willing to go see it again', 'Really cool use of Marvel visual effects.  I think some of the locations  was awesome,  I mean cool Las Vegas scenes inside a casino.', \"did really like it....feel sad at the end of the movie but definitely sure he'll be back......\", 'This movie was rushed and all over the place. Almost fell asleep and left. Never done that before. Couldn’t get into it.', 'It’s just like every 2000s Marvel Flick. Good Dumb Fun', 'The decliners in this auditorium are very sucky the heater goes off literally after 5 minutes and it does not heat up  that much']\n"
     ]
    }
   ],
   "source": [
    "def get_all_reviews():\n",
    "    selector = \"drawer-more > p.audience-reviews__review\"\n",
    "    reviews = [review.string.strip() for review in soup.select(selector=selector)]\n",
    "\n",
    "    target_char = \"\\n\"    \n",
    "    for i in range(len(reviews)):\n",
    "        idx = reviews[i].find(target_char)\n",
    "        \n",
    "        if idx == -1:\n",
    "            pass\n",
    "        else:\n",
    "           reviews[i] = reviews[i].replace(target_char, \" \")\n",
    "           \n",
    "    return reviews\n",
    "\n",
    "print(get_all_reviews())"
   ]
  },
  {
   "cell_type": "markdown",
   "metadata": {},
   "source": [
    "สร้าง function สำหรับดึงชื่อผู้ที่รีวิว\n",
    "1. เขียน selector เพื่อเข้าถึง elements\n",
    "2. สร้างตัวแปร reviewers เก็บเป็น list ของ string ด้านในใช้ method select ส่ง argument เป็น selector จากนั้นจะได้ list ของ element มาทำการ loop แต่ล่ะ element เพื่อเอาข้อความด้านใน element โดยเข้าถึง attribute string\n",
    "3. return ตัวแปร reviewers \n",
    "4. แสดงผลลัพธ์ข้อมูลของ function"
   ]
  },
  {
   "cell_type": "code",
   "execution_count": 5,
   "metadata": {},
   "outputs": [
    {
     "name": "stdout",
     "output_type": "stream",
     "text": [
      "['Paxton Wheat', 'Larry G', 'Anthony A', 'Jacob', 'william c', 'Jeffrey', 'Evelyn C', 'Cody', 'Tyreneis', 'K B', 'Eduardo Sanchez', 'Ivan', 'Jim', 'Kevin H', 'Maria uriarte', 'thomas s', 'frederic', 'Leah', 'Kevin', 'Elexia j']\n"
     ]
    }
   ],
   "source": [
    "def get_all_reviewers():\n",
    "    selector = \"div.audience-review-row > div.review-data > div.audience-reviews__name-wrap > span.audience-reviews__name\"\n",
    "    reviewers = [reviewer.string for reviewer in soup.select(selector=selector)]\n",
    "    return reviewers\n",
    "\n",
    "print(get_all_reviewers())"
   ]
  },
  {
   "cell_type": "markdown",
   "metadata": {},
   "source": [
    "สร้าง function สำหรับดึงวันที่รีวิว\n",
    "1. เขียน selector เพื่อเข้าถึง elements\n",
    "2. สร้างตัวแปร dates เก็บเป็น list ของ string ด้านในใช้ method select ส่ง argument เป็น selector จากนั้นจะได้ list ของ element มาทำการ loop แต่ล่ะ element เพื่อเอาข้อความด้านใน element โดยเข้าถึง attribute string\n",
    "3. return ตัวแปร dates \n",
    "4. แสดงผลลัพธ์ข้อมูลของ function"
   ]
  },
  {
   "cell_type": "code",
   "execution_count": 6,
   "metadata": {},
   "outputs": [
    {
     "name": "stdout",
     "output_type": "stream",
     "text": [
      "['Dec 18, 2024', 'Dec 18, 2024', 'Dec 17, 2024', 'Dec 17, 2024', 'Dec 16, 2024', 'Dec 14, 2024', 'Dec 13, 2024', 'Dec 13, 2024', 'Dec 12, 2024', 'Dec 10, 2024', 'Dec 10, 2024', 'Dec 9, 2024', 'Dec 9, 2024', 'Dec 9, 2024', 'Dec 8, 2024', 'Dec 7, 2024', 'Dec 5, 2024', 'Dec 4, 2024', 'Dec 4, 2024', 'Dec 4, 2024']\n"
     ]
    }
   ],
   "source": [
    "def get_all_dates():\n",
    "    selector = \"div.audience-review-row > div.review-text-container > div.audience-review-meta > rating-stars-group + span.audience-reviews__verified + span.audience-reviews__duration\"\n",
    "    dates = [date.string for date in soup.select(selector=selector)]\n",
    "    return dates\n",
    "  \n",
    "print(get_all_dates())    "
   ]
  },
  {
   "cell_type": "markdown",
   "metadata": {},
   "source": [
    "สร้าง function สำหรับดึงคะแนนรีวิว\n",
    "1. เขียน selector เพื่อเข้าถึง elements\n",
    "2. สร้างตัวแปร scores เก็บเป็น list ของ float ด้านในใช้ method select ส่ง argument เป็น selector จากนั้นจะได้ list ของ element มาทำการ loop แต่ล่ะ element เพื่อเข้าถึง attrubute score เราต้องการค่าของ attribute score โดยต้องระบุ key ให้ attrs ก็จะได้ค่าของ attribute score มาแล้วเราใช้ function float สำหรับแปลงข้อความที่ได้ให้เป็น เลขทศนิยม\n",
    "3. return ตัวแปร scores \n",
    "4. แสดงผลลัพธ์ข้อมูลของ function"
   ]
  },
  {
   "cell_type": "code",
   "execution_count": 9,
   "metadata": {},
   "outputs": [
    {
     "name": "stdout",
     "output_type": "stream",
     "text": [
      "[1.0, 4.0, 3.0, 5.0, 5.0, 5.0, 5.0, 5.0, 3.0, 4.0, 3.5, 5.0, 4.0, 3.0, 5.0, 4.0, 5.0, 0.5, 5.0, 2.0]\n"
     ]
    }
   ],
   "source": [
    "def get_all_scores():\n",
    "    selector = \"div.audience-review-row > div.review-text-container > div.audience-review-meta > rating-stars-group\"\n",
    "    scores = [float(score.attrs[\"score\"]) for score in soup.select(selector=selector)]\n",
    "    return scores\n",
    "\n",
    "print(get_all_scores())"
   ]
  },
  {
   "cell_type": "markdown",
   "metadata": {},
   "source": [
    "1. สร้างตัวแปรชื่อ data_table มีโครงสร้างข้อมูลเป็น dict ใส่ชื่อ keys ให้เรียบร้อยแล้วกำหนด values คือการเรียกใช้ functions ที่เราสร้างขึ้นมา function จะ return list ของค่าแต่ละแถวตามลำดับ\n",
    "2. สร้าง object dataframe ขึ้นมาส่ง argument เป็น dict ที่เราสร้างเมื่อกี้\n",
    "3. แสดงผลข้อมูลในตารางออกมา"
   ]
  },
  {
   "cell_type": "code",
   "execution_count": 10,
   "metadata": {},
   "outputs": [
    {
     "name": "stdout",
     "output_type": "stream",
     "text": [
      "<class 'pandas.core.frame.DataFrame'>\n",
      "RangeIndex: 20 entries, 0 to 19\n",
      "Data columns (total 4 columns):\n",
      " #   Column    Non-Null Count  Dtype  \n",
      "---  ------    --------------  -----  \n",
      " 0   reviewer  20 non-null     object \n",
      " 1   review    20 non-null     object \n",
      " 2   score     20 non-null     float64\n",
      " 3   date      20 non-null     object \n",
      "dtypes: float64(1), object(3)\n",
      "memory usage: 772.0+ bytes\n",
      "None\n"
     ]
    },
    {
     "data": {
      "text/html": [
       "<div>\n",
       "<style scoped>\n",
       "    .dataframe tbody tr th:only-of-type {\n",
       "        vertical-align: middle;\n",
       "    }\n",
       "\n",
       "    .dataframe tbody tr th {\n",
       "        vertical-align: top;\n",
       "    }\n",
       "\n",
       "    .dataframe thead th {\n",
       "        text-align: right;\n",
       "    }\n",
       "</style>\n",
       "<table border=\"1\" class=\"dataframe\">\n",
       "  <thead>\n",
       "    <tr style=\"text-align: right;\">\n",
       "      <th></th>\n",
       "      <th>reviewer</th>\n",
       "      <th>review</th>\n",
       "      <th>score</th>\n",
       "      <th>date</th>\n",
       "    </tr>\n",
       "  </thead>\n",
       "  <tbody>\n",
       "    <tr>\n",
       "      <th>0</th>\n",
       "      <td>Paxton Wheat</td>\n",
       "      <td>Fun if you enjoy the dumb humor and buddy cop ...</td>\n",
       "      <td>1.0</td>\n",
       "      <td>Dec 18, 2024</td>\n",
       "    </tr>\n",
       "    <tr>\n",
       "      <th>1</th>\n",
       "      <td>Larry G</td>\n",
       "      <td>The bar wasn’t set very high for me so I throu...</td>\n",
       "      <td>4.0</td>\n",
       "      <td>Dec 18, 2024</td>\n",
       "    </tr>\n",
       "    <tr>\n",
       "      <th>2</th>\n",
       "      <td>Anthony A</td>\n",
       "      <td>It was good. Not great. But worth watching</td>\n",
       "      <td>3.0</td>\n",
       "      <td>Dec 17, 2024</td>\n",
       "    </tr>\n",
       "    <tr>\n",
       "      <th>3</th>\n",
       "      <td>Jacob</td>\n",
       "      <td>Need to see Venom get a 4th movie with Spider-...</td>\n",
       "      <td>5.0</td>\n",
       "      <td>Dec 17, 2024</td>\n",
       "    </tr>\n",
       "    <tr>\n",
       "      <th>4</th>\n",
       "      <td>william c</td>\n",
       "      <td>I liked it all.The end was a little sad.</td>\n",
       "      <td>5.0</td>\n",
       "      <td>Dec 16, 2024</td>\n",
       "    </tr>\n",
       "    <tr>\n",
       "      <th>5</th>\n",
       "      <td>Jeffrey</td>\n",
       "      <td>Funny, this is the new type of super hero</td>\n",
       "      <td>5.0</td>\n",
       "      <td>Dec 14, 2024</td>\n",
       "    </tr>\n",
       "    <tr>\n",
       "      <th>6</th>\n",
       "      <td>Evelyn C</td>\n",
       "      <td>Loved it and seeing them all work together for...</td>\n",
       "      <td>5.0</td>\n",
       "      <td>Dec 13, 2024</td>\n",
       "    </tr>\n",
       "    <tr>\n",
       "      <th>7</th>\n",
       "      <td>Cody</td>\n",
       "      <td>This movie was a pretty good way to wrap up th...</td>\n",
       "      <td>5.0</td>\n",
       "      <td>Dec 13, 2024</td>\n",
       "    </tr>\n",
       "    <tr>\n",
       "      <th>8</th>\n",
       "      <td>Tyreneis</td>\n",
       "      <td>Venom the last dance is an ok movie  I enjoyed...</td>\n",
       "      <td>3.0</td>\n",
       "      <td>Dec 12, 2024</td>\n",
       "    </tr>\n",
       "    <tr>\n",
       "      <th>9</th>\n",
       "      <td>K B</td>\n",
       "      <td>Waiting for Venom 4!</td>\n",
       "      <td>4.0</td>\n",
       "      <td>Dec 10, 2024</td>\n",
       "    </tr>\n",
       "    <tr>\n",
       "      <th>10</th>\n",
       "      <td>Eduardo Sanchez</td>\n",
       "      <td>Awesome absolutely loved it !</td>\n",
       "      <td>3.5</td>\n",
       "      <td>Dec 10, 2024</td>\n",
       "    </tr>\n",
       "    <tr>\n",
       "      <th>11</th>\n",
       "      <td>Ivan</td>\n",
       "      <td>Movie was cool had good action could have had ...</td>\n",
       "      <td>5.0</td>\n",
       "      <td>Dec 9, 2024</td>\n",
       "    </tr>\n",
       "    <tr>\n",
       "      <th>12</th>\n",
       "      <td>Jim</td>\n",
       "      <td>Great follow-up to previous two movies with a ...</td>\n",
       "      <td>4.0</td>\n",
       "      <td>Dec 9, 2024</td>\n",
       "    </tr>\n",
       "    <tr>\n",
       "      <th>13</th>\n",
       "      <td>Kevin H</td>\n",
       "      <td>some parts are too long and would almost be be...</td>\n",
       "      <td>3.0</td>\n",
       "      <td>Dec 9, 2024</td>\n",
       "    </tr>\n",
       "    <tr>\n",
       "      <th>14</th>\n",
       "      <td>Maria uriarte</td>\n",
       "      <td>Absolutely love the movie I am willing to go s...</td>\n",
       "      <td>5.0</td>\n",
       "      <td>Dec 8, 2024</td>\n",
       "    </tr>\n",
       "    <tr>\n",
       "      <th>15</th>\n",
       "      <td>thomas s</td>\n",
       "      <td>Really cool use of Marvel visual effects.  I t...</td>\n",
       "      <td>4.0</td>\n",
       "      <td>Dec 7, 2024</td>\n",
       "    </tr>\n",
       "    <tr>\n",
       "      <th>16</th>\n",
       "      <td>frederic</td>\n",
       "      <td>did really like it....feel sad at the end of t...</td>\n",
       "      <td>5.0</td>\n",
       "      <td>Dec 5, 2024</td>\n",
       "    </tr>\n",
       "    <tr>\n",
       "      <th>17</th>\n",
       "      <td>Leah</td>\n",
       "      <td>This movie was rushed and all over the place. ...</td>\n",
       "      <td>0.5</td>\n",
       "      <td>Dec 4, 2024</td>\n",
       "    </tr>\n",
       "    <tr>\n",
       "      <th>18</th>\n",
       "      <td>Kevin</td>\n",
       "      <td>It’s just like every 2000s Marvel Flick. Good ...</td>\n",
       "      <td>5.0</td>\n",
       "      <td>Dec 4, 2024</td>\n",
       "    </tr>\n",
       "    <tr>\n",
       "      <th>19</th>\n",
       "      <td>Elexia j</td>\n",
       "      <td>The decliners in this auditorium are very suck...</td>\n",
       "      <td>2.0</td>\n",
       "      <td>Dec 4, 2024</td>\n",
       "    </tr>\n",
       "  </tbody>\n",
       "</table>\n",
       "</div>"
      ],
      "text/plain": [
       "           reviewer                                             review  score  \\\n",
       "0      Paxton Wheat  Fun if you enjoy the dumb humor and buddy cop ...    1.0   \n",
       "1           Larry G  The bar wasn’t set very high for me so I throu...    4.0   \n",
       "2         Anthony A         It was good. Not great. But worth watching    3.0   \n",
       "3             Jacob  Need to see Venom get a 4th movie with Spider-...    5.0   \n",
       "4         william c           I liked it all.The end was a little sad.    5.0   \n",
       "5           Jeffrey          Funny, this is the new type of super hero    5.0   \n",
       "6          Evelyn C  Loved it and seeing them all work together for...    5.0   \n",
       "7              Cody  This movie was a pretty good way to wrap up th...    5.0   \n",
       "8          Tyreneis  Venom the last dance is an ok movie  I enjoyed...    3.0   \n",
       "9               K B                               Waiting for Venom 4!    4.0   \n",
       "10  Eduardo Sanchez                      Awesome absolutely loved it !    3.5   \n",
       "11             Ivan  Movie was cool had good action could have had ...    5.0   \n",
       "12              Jim  Great follow-up to previous two movies with a ...    4.0   \n",
       "13          Kevin H  some parts are too long and would almost be be...    3.0   \n",
       "14    Maria uriarte  Absolutely love the movie I am willing to go s...    5.0   \n",
       "15         thomas s  Really cool use of Marvel visual effects.  I t...    4.0   \n",
       "16         frederic  did really like it....feel sad at the end of t...    5.0   \n",
       "17             Leah  This movie was rushed and all over the place. ...    0.5   \n",
       "18            Kevin  It’s just like every 2000s Marvel Flick. Good ...    5.0   \n",
       "19         Elexia j  The decliners in this auditorium are very suck...    2.0   \n",
       "\n",
       "            date  \n",
       "0   Dec 18, 2024  \n",
       "1   Dec 18, 2024  \n",
       "2   Dec 17, 2024  \n",
       "3   Dec 17, 2024  \n",
       "4   Dec 16, 2024  \n",
       "5   Dec 14, 2024  \n",
       "6   Dec 13, 2024  \n",
       "7   Dec 13, 2024  \n",
       "8   Dec 12, 2024  \n",
       "9   Dec 10, 2024  \n",
       "10  Dec 10, 2024  \n",
       "11   Dec 9, 2024  \n",
       "12   Dec 9, 2024  \n",
       "13   Dec 9, 2024  \n",
       "14   Dec 8, 2024  \n",
       "15   Dec 7, 2024  \n",
       "16   Dec 5, 2024  \n",
       "17   Dec 4, 2024  \n",
       "18   Dec 4, 2024  \n",
       "19   Dec 4, 2024  "
      ]
     },
     "metadata": {},
     "output_type": "display_data"
    }
   ],
   "source": [
    "data_table = {\n",
    "    'reviewer': get_all_reviewers(),\n",
    "    'review': get_all_reviews(),\n",
    "    'score': get_all_scores(),\n",
    "    'date': get_all_dates()\n",
    "}\n",
    "\n",
    "df = DataFrame(data_table)\n",
    "\n",
    "print(df.info())\n",
    "display(df)"
   ]
  },
  {
   "cell_type": "markdown",
   "metadata": {},
   "source": [
    "สร้างไฟล์ csv โดยใช้ method to_csv กำหนดชื่อไฟล์ และระบุ keyword argument index เป็น False รันแล้วจะได้ไฟล์ .csv มา"
   ]
  },
  {
   "cell_type": "code",
   "execution_count": 12,
   "metadata": {},
   "outputs": [],
   "source": [
    "df.to_csv(\"6630250435_HW2.csv\", index=False)"
   ]
  }
 ],
 "metadata": {
  "kernelspec": {
   "display_name": "Python 3",
   "language": "python",
   "name": "python3"
  },
  "language_info": {
   "codemirror_mode": {
    "name": "ipython",
    "version": 3
   },
   "file_extension": ".py",
   "mimetype": "text/x-python",
   "name": "python",
   "nbconvert_exporter": "python",
   "pygments_lexer": "ipython3",
   "version": "3.12.3"
  }
 },
 "nbformat": 4,
 "nbformat_minor": 2
}
