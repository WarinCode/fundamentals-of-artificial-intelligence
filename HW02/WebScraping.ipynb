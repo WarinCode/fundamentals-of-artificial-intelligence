{
  "cells": [
    {
      "cell_type": "markdown",
      "metadata": {
        "id": "VdI9RUsfKIdo"
      },
      "source": [
        "#Reference\n",
        "https://stackabuse.com/guide-to-parsing-html-with-beautifulsoup-in-python/ <br>\n",
        "https://medium.com/analytics-vidhya/web-scraping-for-beginners-using-python-73f0966d895f <br>\n",
        "https://medium.com/@meenuravi786/web-scraping-book-data-using-python-eb2e761fdc14<br>\n",
        "\n"
      ]
    },
    {
      "cell_type": "code",
      "execution_count": null,
      "metadata": {
        "id": "_vgLnSSJPty9"
      },
      "outputs": [],
      "source": [
        "from bs4 import BeautifulSoup\n",
        "import requests\n",
        "import pandas as pd"
      ]
    },
    {
      "cell_type": "markdown",
      "metadata": {
        "id": "Qu0BVxR-rsj0"
      },
      "source": [
        "#Example1"
      ]
    },
    {
      "cell_type": "code",
      "execution_count": null,
      "metadata": {
        "id": "zlMuuivpmmoY"
      },
      "outputs": [],
      "source": [
        "SIMPLE_HTML = \"\"\" <html> <head></head>\n",
        "<body>\n",
        "  <title>\n",
        "      <h1>This is the Title</h1>\n",
        "  </title>\n",
        "  <p class = \"subtitle\"> Sutitle is here</p>\n",
        "  <p> Another p without class </p>\n",
        "    <ul>\n",
        "      <li> Ant </li>\n",
        "      <li> Bat </li>\n",
        "      <li> Cat </li>\n",
        "      <li> Dog </li>\n",
        "    <ul>\n",
        "</body>\n",
        "</html>\"\"\"\n",
        "\n",
        "print(SIMPLE_HTML)"
      ]
    },
    {
      "cell_type": "code",
      "execution_count": null,
      "metadata": {
        "id": "7uV8vNHPK9WH"
      },
      "outputs": [],
      "source": [
        "soup = BeautifulSoup(SIMPLE_HTML,'html.parser')\n",
        "print(soup.title)"
      ]
    },
    {
      "cell_type": "code",
      "execution_count": null,
      "metadata": {
        "id": "cnSirSEkX6UY"
      },
      "outputs": [],
      "source": [
        "print(soup.title.text)\n",
        "#print(soup.title.string)"
      ]
    },
    {
      "cell_type": "markdown",
      "metadata": {
        "id": "DsNJeAsSbLiS"
      },
      "source": [
        "#สร้าง function"
      ]
    },
    {
      "cell_type": "code",
      "execution_count": null,
      "metadata": {
        "id": "dwTYBymZ0Uxp"
      },
      "outputs": [],
      "source": [
        "def find_title():\n",
        "  print(soup.find('h1'))\n",
        "  print(soup.find('h1').string)\n",
        "\n",
        "\n",
        "find_title()"
      ]
    },
    {
      "cell_type": "code",
      "execution_count": null,
      "metadata": {
        "id": "QNvj1HoAH8nQ"
      },
      "outputs": [],
      "source": [
        "def find_title():\n",
        "  print(soup.find('title'))\n",
        "  print(soup.find('title').text)\n",
        "\n",
        "find_title()"
      ]
    },
    {
      "cell_type": "code",
      "execution_count": null,
      "metadata": {
        "id": "W8I6w-OYIRWc"
      },
      "outputs": [],
      "source": [
        "def find_list_item():\n",
        "  list_item = soup.find_all('li')\n",
        "  print(list_item)\n",
        "  content = [e.string for e in list_item]\n",
        "  print(content)\n",
        "\n",
        "\n",
        "find_list_item()"
      ]
    },
    {
      "cell_type": "code",
      "execution_count": null,
      "metadata": {
        "id": "0BIHMVzOIsCc"
      },
      "outputs": [],
      "source": [
        "def find_subtitle():\n",
        "  paragraph = soup.find('p',{'class':'subtitle'})\n",
        "  print(paragraph.string)\n",
        "\n",
        "find_subtitle()"
      ]
    },
    {
      "cell_type": "code",
      "execution_count": null,
      "metadata": {
        "id": "-882tIXqKAVw"
      },
      "outputs": [],
      "source": [
        "def find_other_paragraph():\n",
        "  paragraph = soup.find_all('p')\n",
        "  print(paragraph)\n",
        "\n",
        "  other_p = [p for p in paragraph if 'subtitle' not in p.attrs.get('class',[])]\n",
        "  print(\"ans =\",other_p[0].string)\n",
        "\n",
        "find_other_paragraph()"
      ]
    },
    {
      "cell_type": "markdown",
      "metadata": {
        "id": "Fdg92zO6LIvL"
      },
      "source": [
        "# More Complex HTML Parsing"
      ]
    },
    {
      "cell_type": "code",
      "execution_count": null,
      "metadata": {
        "id": "DmDBpyNSKsv8"
      },
      "outputs": [],
      "source": [
        "response = requests.get('http://books.toscrape.com')\n",
        "soup = BeautifulSoup(response.content,'html.parser')\n",
        "soup"
      ]
    },
    {
      "cell_type": "markdown",
      "metadata": {
        "id": "Pu5Iyh1igDZi"
      },
      "source": [
        "#การใช้ select_one, select\n",
        "Create function to get book title"
      ]
    },
    {
      "cell_type": "code",
      "execution_count": null,
      "metadata": {
        "id": "h2sSSdRyAFnm"
      },
      "outputs": [],
      "source": [
        "  #show title and href of first book\n",
        "  #select_one(~) method returns the first tag that match a particular criteria.\n",
        "locator = 'article.product_pod h3 a'\n",
        "item = soup.select_one(locator)\n",
        "item_name = item.attrs['title']\n",
        "print(item_name)\n",
        "item_link = item.attrs['href']\n",
        "print(item_link)"
      ]
    },
    {
      "cell_type": "code",
      "execution_count": null,
      "metadata": {
        "id": "2HZ0armELx-d"
      },
      "outputs": [],
      "source": [
        "def get_title_name():\n",
        "  locator = 'article.product_pod h3 a'\n",
        "  item = soup.select_one(locator)\n",
        "  item_name = item.attrs['title']\n",
        "  print(item_name)\n",
        "\n",
        "\n",
        "get_title_name()"
      ]
    },
    {
      "cell_type": "code",
      "execution_count": null,
      "metadata": {
        "id": "86zGzslHzKg-"
      },
      "outputs": [],
      "source": [
        "def getall_title_name(soup):\n",
        "    locator = 'article.product_pod h3 a'\n",
        "    item = soup.select(locator)\n",
        "    Book_titles = []\n",
        "    for i in range(len(item)):\n",
        "      #print(item[i]['title'])\n",
        "      aTitle= item[i]['title']\n",
        "      Book_titles.append(aTitle)\n",
        "    return Book_titles\n",
        "\n",
        "#findall_title_name(soup)\n",
        "data_title = getall_title_name(soup)\n",
        "data_title"
      ]
    },
    {
      "cell_type": "markdown",
      "metadata": {
        "id": "xWp7FK6vzcBa"
      },
      "source": [
        "Create function to get price using find_all"
      ]
    },
    {
      "cell_type": "code",
      "execution_count": null,
      "metadata": {
        "id": "p411aOeUplgm"
      },
      "outputs": [],
      "source": [
        "Book_price_tags = soup.find_all('p', class_ = 'price_color')\n",
        "Book_price_tags[0].text"
      ]
    },
    {
      "cell_type": "code",
      "execution_count": null,
      "metadata": {
        "id": "f04xbeVhxvgp"
      },
      "outputs": [],
      "source": [
        "def get_book_price(soup):\n",
        "    Book_price_tags = soup.find_all('p', class_ = 'price_color')\n",
        "    Book_price = []\n",
        "    for tags in Book_price_tags:\n",
        "        aPrice = tags.text\n",
        "        Book_price.append(aPrice)\n",
        "    return Book_price\n",
        "\n",
        "get_book_price(soup)"
      ]
    },
    {
      "cell_type": "code",
      "execution_count": null,
      "metadata": {
        "id": "sjv6fgATtfpk"
      },
      "outputs": [],
      "source": [
        "def getall_book_price(soup):\n",
        "    Book_price_tags = soup.find_all('p', class_ = 'price_color')\n",
        "    Book_price = []\n",
        "    for tags in Book_price_tags:\n",
        "        aPrice= tags.text\n",
        "        #print(aPrice)\n",
        "        Book_price.append(aPrice)\n",
        "        #print(Book_price)\n",
        "    return Book_price\n",
        "\n",
        "data_price = get_book_price(soup)\n",
        "data_price"
      ]
    },
    {
      "cell_type": "markdown",
      "metadata": {
        "id": "07nNqkQCgLBq"
      },
      "source": [
        "Create function to get all rating"
      ]
    },
    {
      "cell_type": "code",
      "execution_count": null,
      "metadata": {
        "id": "Bn5tJThCOBKo"
      },
      "outputs": [],
      "source": [
        "def findall_rating(soup):\n",
        "  locator = 'article.product_pod p.star-rating'\n",
        "  star_rating_tag = soup.select(locator)\n",
        "  #print(star_rating_tag)\n",
        "  other_p = [p.attrs['class'] for p in star_rating_tag]\n",
        "  #print(other_p)\n",
        "  Book_rate = []\n",
        "  for rate in other_p:\n",
        "      Book_rate.append(rate[1])\n",
        "  return Book_rate\n",
        "\n",
        "data_rate = findall_rating(soup)\n",
        "data_rate"
      ]
    },
    {
      "cell_type": "markdown",
      "metadata": {
        "id": "6_rjGT_D1CJu"
      },
      "source": [
        "#Prepare data frame"
      ]
    },
    {
      "cell_type": "code",
      "execution_count": null,
      "metadata": {
        "id": "XZeOXtl_jUry"
      },
      "outputs": [],
      "source": [
        "import pandas as pd"
      ]
    },
    {
      "cell_type": "code",
      "execution_count": null,
      "metadata": {
        "id": "z_IA5uu_jsyK"
      },
      "outputs": [],
      "source": [
        "df = pd.DataFrame(columns=['title', 'price','rating'])\n",
        "#set max_colwidth\n",
        "#pd.set_option('display.max_colwidth', None)\n",
        "temp = {}\n"
      ]
    },
    {
      "cell_type": "markdown",
      "metadata": {
        "id": "fJyWodWO6xa3"
      },
      "source": [
        "# Workshop Scraping URL of detial of each book"
      ]
    },
    {
      "cell_type": "code",
      "execution_count": null,
      "metadata": {
        "id": "nK0L7gbl6zwm"
      },
      "outputs": [],
      "source": [
        "result = soup.find_all(class_=\"product_pod\")[0].find(\"a\").attrs[\"href\"]\n",
        "result"
      ]
    },
    {
      "cell_type": "code",
      "execution_count": null,
      "metadata": {
        "id": "rxAXvZSiPTMH"
      },
      "outputs": [],
      "source": [
        "url_book = soup.find_all(class_=\"product_pod\")[0].find(\"a\").attrs[\"href\"]\n",
        "print(url_book)"
      ]
    },
    {
      "cell_type": "code",
      "execution_count": null,
      "metadata": {
        "id": "CS33YWhmPa_v"
      },
      "outputs": [],
      "source": [
        "base_url = \"http://books.toscrape.com/\"\n",
        "new_url = base_url + url_book\n",
        "print(new_url)"
      ]
    },
    {
      "cell_type": "code",
      "execution_count": null,
      "metadata": {
        "id": "ahCCBi80SNEJ"
      },
      "outputs": [],
      "source": [
        "# list of all books on the overview page\n",
        "books = soup.find_all(class_=\"product_pod\")\n",
        "base_url = \"http://books.toscrape.com/\"\n",
        "new_url = []\n",
        "\n",
        "for book in books:\n",
        "    book_url = book.find(\"a\").attrs[\"href\"]\n",
        "    real_url = base_url + book_url\n",
        "    #print(new_url)\n",
        "    new_url.append(real_url)\n",
        "\n",
        "# print the first five urls\n",
        "#print(new_url[0:5])\n",
        "new_url"
      ]
    },
    {
      "cell_type": "code",
      "execution_count": null,
      "metadata": {
        "id": "31cMjeqDVIT-"
      },
      "outputs": [],
      "source": [
        "# Initialize the DataFrame\n",
        "df = pd.DataFrame(columns=['title', 'price', 'rating', 'url'])\n",
        "\n",
        "# Create a list to collect rows\n",
        "rows = []\n",
        "for i in range(len(data_title)):\n",
        "    temp = {\n",
        "        'title': data_title[i],\n",
        "        'price': data_price[i],\n",
        "        'rating': data_rate[i],\n",
        "        'url': new_url[i]\n",
        "    }\n",
        "    rows.append(temp)\n",
        "\n",
        "# Convert list of rows into a DataFrame\n",
        "df = pd.DataFrame(rows)"
      ]
    },
    {
      "cell_type": "markdown",
      "metadata": {
        "id": "ptCzZ5AcWdz1"
      },
      "source": [
        "#Write dataframe to CSV or Excel"
      ]
    },
    {
      "cell_type": "code",
      "execution_count": null,
      "metadata": {
        "id": "LcH6UwEIV1W-"
      },
      "outputs": [],
      "source": [
        "df.to_csv('Bookdata.csv', index=True, encoding = 'utf-8')\n",
        "#df.to_csv('ฺBookdata.csv', index=False)\n",
        "#df.to_excel('ฺBookdata.xls', index=True)"
      ]
    }
  ],
  "metadata": {
    "colab": {
      "provenance": []
    },
    "kernelspec": {
      "display_name": "Python 3",
      "name": "python3"
    },
    "language_info": {
      "name": "python",
      "version": "3.12.3"
    }
  },
  "nbformat": 4,
  "nbformat_minor": 0
}
